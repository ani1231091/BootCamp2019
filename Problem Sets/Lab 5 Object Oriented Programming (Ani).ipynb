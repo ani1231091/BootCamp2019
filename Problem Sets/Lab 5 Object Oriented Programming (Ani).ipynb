{
 "cells": [
  {
   "cell_type": "markdown",
   "metadata": {},
   "source": [
    "## Object Oriented Programming\n",
    "Lab Objective: Python is a class-based language. A class is a blueprint for an object that binds\n",
    "together specified variables and routines. Creating and using custom classes is often a good way to\n",
    "write clean, efficient, well-designed programs. In this lab we learn how to define and use Python\n",
    "classes. In subsequents labs, we will often create customized classes for use in algorithms."
   ]
  },
  {
   "cell_type": "code",
   "execution_count": 40,
   "metadata": {},
   "outputs": [
    {
     "data": {
      "text/html": [
       "<style>\n",
       "div.input {\n",
       "    display:none;\n",
       "}\n",
       "</style>\n"
      ],
      "text/plain": [
       "<IPython.core.display.HTML object>"
      ]
     },
     "metadata": {},
     "output_type": "display_data"
    }
   ],
   "source": [
    "%%html\n",
    "<style>\n",
    "div.input {\n",
    "    display:none;\n",
    "}\n",
    "</style>"
   ]
  },
  {
   "cell_type": "code",
   "execution_count": 1,
   "metadata": {},
   "outputs": [],
   "source": [
    "import numpy as np\n",
    "import matplotlib.pyplot as plt\n",
    "import sympy as sy\n",
    "import scipy as sp"
   ]
  },
  {
   "cell_type": "code",
   "execution_count": 18,
   "metadata": {},
   "outputs": [],
   "source": [
    "class Backpack:\n",
    "    \n",
    "\n",
    "    def __init__(self, name, color, max_size=5):   # constructor\n",
    "        \n",
    "        self.name = name          \n",
    "        self.contents = []\n",
    "        self.color = color\n",
    "        self.max_size = max_size\n",
    "        \n",
    "    def __eq__(self, other):\n",
    "        \n",
    "        if self.name != other.name:\n",
    "            return False\n",
    "        elif self.color != other.color:\n",
    "            return False\n",
    "        elif len(self.contents) != len(other.contents):\n",
    "            return False\n",
    "        else:\n",
    "            return True\n",
    "        \n",
    "        \n",
    "    def __str__(self):\n",
    "        \n",
    "        string = str(    \"Owner:\\t\\t\" + str(self.name)\n",
    "                     + \"\\nColor:\\t\\t\" + str(self.color)\n",
    "                     + \"\\nSize:\\t\\t\" + str(len(self.contents))\n",
    "                     + \"\\nMax Size:\\t\" + str(self.max_size)\n",
    "                     + \"\\nContents:\\t\" + str(self.contents))\n",
    "        \n",
    "        return string\n",
    "        \n",
    "    def put(self, item):\n",
    "    \n",
    "        \n",
    "        if len(self.contents) >= self.max_size:\n",
    "            Print(\"No Room!\")\n",
    "        else:\n",
    "            self.contents.append(item)   \n",
    "    \n",
    "    def take(self, item):\n",
    "      \n",
    "        self.contents.remove(item)\n",
    "    \n",
    "    def dump(self):\n",
    "        \n",
    "        self.contents = []  "
   ]
  },
  {
   "cell_type": "code",
   "execution_count": 19,
   "metadata": {},
   "outputs": [
    {
     "name": "stdout",
     "output_type": "stream",
     "text": [
      "Contents:  ['pencil', 'pen', 'paper', 'computer']\n",
      "Color:  black\n",
      "Max backpack size:  10\n",
      "\n",
      "Owner:\t\tBarry\n",
      "Color:\t\tblack\n",
      "Size:\t\t4\n",
      "Max Size:\t10\n",
      "Contents:\t['pencil', 'pen', 'paper', 'computer']\n"
     ]
    }
   ],
   "source": [
    "def test_backpack():\n",
    "  \n",
    "    testpack = Backpack(\"Barry\", \"black\", 10) \n",
    "    if testpack.name != \"Barry\":          \n",
    "        print(\"Backpack.name assigned incorrectly\")\n",
    "    if testpack.color != \"black\":\n",
    "        print(\"Backpack.color assigned incorrectly\")\n",
    "    if testpack.max_size != 10:\n",
    "        print(\"Backpack.max_size assigned incorrectly\")\n",
    "    for item in [\"pencil\", \"pen\", \"paper\", \"computer\"]:\n",
    "        testpack.put(item)                \n",
    "    print(\"Contents: \", testpack.contents)\n",
    "    print(\"Color: \", testpack.color)\n",
    "    print(\"Max backpack size: \", testpack.max_size)\n",
    "    \n",
    "    print()\n",
    "    print(testpack)\n",
    "\n",
    "test_backpack()"
   ]
  },
  {
   "cell_type": "code",
   "execution_count": 36,
   "metadata": {},
   "outputs": [],
   "source": [
    "class Jetpack(Backpack): #set the max_size=2\n",
    "    \n",
    "    def __init__(self, name, color, max_size=2, fuel=10):\n",
    "        Backpack.__init__(self, name, color, max_size)\n",
    "        self.fuel = fuel\n",
    "    \n",
    "    def fly(self, fuel):\n",
    "        if fuel > self.fuel:   \n",
    "            print(\"MAYDAY!\")\n",
    "        else:\n",
    "            self.fuel -= fuel\n",
    "        \n",
    "    def dump(self):   \n",
    "        self.fuel = 0\n",
    "        self.contents = []\n",
    "            "
   ]
  },
  {
   "cell_type": "code",
   "execution_count": 37,
   "metadata": {
    "code_folding": [
     0,
     2,
     4,
     6,
     8,
     10
    ]
   },
   "outputs": [
    {
     "name": "stdout",
     "output_type": "stream",
     "text": [
      "Contents:  ['pencil', 'pen', 'paper', 'computer']\n",
      "Color:  blue\n",
      "Max jetpack size:  10\n",
      "Current fuel:  100\n",
      "Fuel after flying:  50\n",
      "MAYDAY!\n",
      "Current fuel:  0\n",
      "Contents:  []\n"
     ]
    }
   ],
   "source": [
    "def test_jetpack():\n",
    "    testjet = Jetpack(\"Jan\", \"blue\", 10, 100)\n",
    "    if testjet.name != \"Jan\":        \n",
    "        print(\"Backpack.name assigned incorrectly\")\n",
    "    if testjet.color != \"blue\":\n",
    "        print(\"Backpack.color assigned incorrectly\")\n",
    "    if testjet.max_size != 10:\n",
    "        print(\"Backpack.max_size assigned incorrectly\")\n",
    "    if testjet.fuel != 100:\n",
    "        print(\"Backpack.fuel assigned incorrectly\")\n",
    "    for item in [\"pencil\", \"pen\", \"paper\", \"computer\"]:\n",
    "        testjet.put(item)  \n",
    "    print(\"Contents: \", testjet.contents)\n",
    "    print(\"Color: \", testjet.color)\n",
    "    print(\"Max jetpack size: \", testjet.max_size)\n",
    "    print(\"Current fuel: \", testjet.fuel)\n",
    "    \n",
    "    testjet.fly(50)\n",
    "    print(\"Fuel after flying: \", testjet.fuel)\n",
    "    \n",
    "    testjet.fly(100)\n",
    "    \n",
    "    testjet.dump()\n",
    "    print(\"Current fuel: \", testjet.fuel)\n",
    "    print(\"Contents: \", testjet.contents)\n",
    "    \n",
    "test_jetpack()"
   ]
  },
  {
   "cell_type": "code",
   "execution_count": 38,
   "metadata": {
    "code_folding": [
     0
    ]
   },
   "outputs": [],
   "source": [
    "class ComplexNumber():\n",
    "    \n",
    "    def __init__(self, a, b):\n",
    "        self.real = a\n",
    "        self.imag = b\n",
    "        \n",
    "    def __str__(self):\n",
    "        \n",
    "        if self.imag >= 0:\n",
    "            string = str(\"(\" + str(self.real) + \"+\" + str(self.imag) + \"j)\")\n",
    "        else:\n",
    "            string = str(\"(\" + str(self.real) + \"-\" + str(-self.imag) + \"j)\")\n",
    "            \n",
    "        return string\n",
    "\n",
    "    def __abs__(self):\n",
    "        \n",
    "        magnitude = math.sqrt(self.real**2 + self.imag**2)\n",
    "        return magnitude\n",
    "    \n",
    "    def __eq__(self, other):\n",
    "        \n",
    "        if self.real != other.real:\n",
    "            return False\n",
    "        elif self.imag != other.imag:\n",
    "            return False\n",
    "        else:\n",
    "            return True\n",
    "        \n",
    "    def __add__(self, other):\n",
    "        \n",
    "        utdReal = self.real + other.real\n",
    "        utdImag = self.imag + other.imag\n",
    "        \n",
    "        return ComplexNumber(utdReal, utdImag)\n",
    "    \n",
    "    def __sub__(self, other):\n",
    "        utdReal = self.real - other.real\n",
    "        utdImag = self.imag - other.imag\n",
    "        \n",
    "        return ComplexNumber(utdReal, utdImag)    \n",
    "    \n",
    "    def __mul__(self, other):\n",
    "    \n",
    "        utdReal = (self.real * other.real - self.imag * other.imag)\n",
    "        utdImag = (self.real * other.imag + self.imag * other.real)\n",
    "        \n",
    "        return ComplexNumber(utdReal, utdImag)\n",
    "    \n",
    "    def __truediv__(self, other):       \n",
    "        \n",
    "        if other.real == 0 and other.imag == 0:\n",
    "            raise ZeroDivisionError(\"cannot divide by zero\")\n",
    "        \n",
    "        denom = other.real**2 + other.imag**2\n",
    "        utdReal = (self.real * other.real + self.imag * other.imag) / denom\n",
    "        utdImag = (self.imag * other.real - self.real * other.imag) / denom\n",
    "        \n",
    "        return ComplexNumber(utdReal, utdImag)\n",
    "        \n",
    "    \n",
    "    def conjugate(self):\n",
    "        return ComplexNumber(self.real, -(self.imag))\n",
    "    \n",
    "    "
   ]
  },
  {
   "cell_type": "code",
   "execution_count": 39,
   "metadata": {
    "code_folding": [
     0
    ]
   },
   "outputs": [
    {
     "name": "stdout",
     "output_type": "stream",
     "text": [
      "(6+9j)\n",
      "(-9+17j)\n",
      "(3.8-0.6j)\n"
     ]
    }
   ],
   "source": [
    "def test_ComplexNumber(a, b):\n",
    "    py_cnum, my_cnum = complex(a, b), ComplexNumber(a, b)\n",
    "    \n",
    "    if my_cnum.real != a or my_cnum.imag != b:\n",
    "        print(\"__init__() set self.real and self.imag incorrectly\")\n",
    "    \n",
    "    \n",
    "    if py_cnum.conjugate().imag != my_cnum.conjugate().imag:\n",
    "        print(\"conjugate() failed for\", py_cnum)\n",
    "    \n",
    "    \n",
    "    if str(py_cnum) != str(my_cnum):\n",
    "        print(\"__str__() failed for\", py_cnum)\n",
    "        \n",
    "    test = ComplexNumber(5, 7)\n",
    "    print(test + my_cnum)\n",
    "    print(test * my_cnum)\n",
    "    print(test / my_cnum)\n",
    "        \n",
    "test_ComplexNumber(1, 2)"
   ]
  },
  {
   "cell_type": "code",
   "execution_count": null,
   "metadata": {},
   "outputs": [],
   "source": []
  }
 ],
 "metadata": {
  "kernelspec": {
   "display_name": "Python 3",
   "language": "python",
   "name": "python3"
  },
  "language_info": {
   "codemirror_mode": {
    "name": "ipython",
    "version": 3
   },
   "file_extension": ".py",
   "mimetype": "text/x-python",
   "name": "python",
   "nbconvert_exporter": "python",
   "pygments_lexer": "ipython3",
   "version": "3.7.3"
  }
 },
 "nbformat": 4,
 "nbformat_minor": 2
}
