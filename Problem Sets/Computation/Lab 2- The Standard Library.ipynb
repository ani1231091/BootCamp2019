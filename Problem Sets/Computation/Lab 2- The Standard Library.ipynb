{
 "cells": [
  {
   "cell_type": "markdown",
   "metadata": {},
   "source": [
    "## Lab 2-The Standard Library (Ani)"
   ]
  },
  {
   "cell_type": "markdown",
   "metadata": {},
   "source": [
    "## Lab Objective\n",
    "Lab Objective: Python is designed to make it easy to implement complex tasks with little code.\n",
    "To that end, every Python distribution includes several built-in functions for accomplishing common\n",
    "tasks. In addition, Python is designed to import and reuse code written by others. A Python file with\n",
    "code that can be imported is called a module. All Python distributions include a collection of modules\n",
    "for accomplishing a variety of tasks, collectively called the Python Standard Library. In this lab we\n",
    "explore some built-in functions, learn how to create, import, and use modules, and become familiar\n",
    "with the standard library."
   ]
  },
  {
   "cell_type": "code",
   "execution_count": 6,
   "metadata": {},
   "outputs": [],
   "source": [
    "import numpy as np\n",
    "from itertools import combinations\n",
    "from statistics import mean\n",
    "from math import sqrt\n",
    "import Calculator"
   ]
  },
  {
   "cell_type": "markdown",
   "metadata": {},
   "source": [
    "## Problem 1"
   ]
  },
  {
   "cell_type": "code",
   "execution_count": 7,
   "metadata": {},
   "outputs": [
    {
     "data": {
      "text/plain": [
       "(5, 35, 15)"
      ]
     },
     "execution_count": 7,
     "metadata": {},
     "output_type": "execute_result"
    }
   ],
   "source": [
    "def f(L):\n",
    "    return (min(L), max(L), mean(L)) #(sum/len)\n",
    "L = [35, 5, 5, 15]\n",
    "f(L)"
   ]
  },
  {
   "cell_type": "markdown",
   "metadata": {},
   "source": [
    "## Problem 2 (Mutable)"
   ]
  },
  {
   "cell_type": "code",
   "execution_count": 8,
   "metadata": {},
   "outputs": [
    {
     "name": "stdout",
     "output_type": "stream",
     "text": [
      "Integer type is mutable: False\n",
      "Set type is mutable: True\n",
      "String type is mutable: False\n",
      "List type is mutable: True\n",
      "Tuple type is mutable: False\n"
     ]
    }
   ],
   "source": [
    "\n",
    "# Integers \n",
    "a = 14\n",
    "b = a\n",
    "b = 35\n",
    "a == b\n",
    "print('Integer type is mutable: ' + str(a == b))\n",
    "\n",
    "\n",
    "# Set\n",
    "set1 = {1, 90, 23}\n",
    "set2 = set1\n",
    "set2.add(9)\n",
    "print('Set type is mutable: ' + str(set1 == set2))\n",
    "\n",
    "# String \n",
    "str1 = \"Lionel\"\n",
    "str2 = str1\n",
    "str2 = \"Messi\" \n",
    "str1 == str2\n",
    "print('String type is mutable: ' + str(str1 == str2))\n",
    "\n",
    "# List \n",
    "l1 = [13,31,89,90]\n",
    "l2 = l1\n",
    "l2[0] = 0\n",
    "print('List type is mutable: ' + str(l1 == l2))\n",
    "\n",
    "# Tuple\n",
    "tuple1 = (10,21)\n",
    "tuple2 = tuple1\n",
    "tuple2 += (0,)\n",
    "print('Tuple type is mutable: ' + str(tuple1 == tuple2))\n"
   ]
  },
  {
   "cell_type": "markdown",
   "metadata": {},
   "source": [
    "## Problem 3"
   ]
  },
  {
   "cell_type": "code",
   "execution_count": 9,
   "metadata": {},
   "outputs": [
    {
     "data": {
      "text/plain": [
       "13.0"
      ]
     },
     "execution_count": 9,
     "metadata": {},
     "output_type": "execute_result"
    }
   ],
   "source": [
    "def h(a, b):\n",
    "    hypo = sqrt(Calculator.sumtwo(Calculator.prodtwo(a,a), Calculator.prodtwo(b,b)))  \n",
    "    return hypo\n",
    "\n",
    "h(5,12)\n"
   ]
  },
  {
   "cell_type": "markdown",
   "metadata": {},
   "source": [
    "## Problem 4 (Set of Sets)\n",
    "\n",
    "**Set of sets is typically not possible because the inner set objects are mutable and therefore, not hashable.**"
   ]
  },
  {
   "cell_type": "code",
   "execution_count": 13,
   "metadata": {},
   "outputs": [
    {
     "data": {
      "text/plain": [
       "[set(),\n",
       " {1},\n",
       " {2},\n",
       " {3},\n",
       " {4},\n",
       " {1, 2},\n",
       " {1, 3},\n",
       " {1, 4},\n",
       " {2, 3},\n",
       " {2, 4},\n",
       " {3, 4},\n",
       " {1, 2, 3},\n",
       " {1, 2, 4},\n",
       " {1, 3, 4},\n",
       " {2, 3, 4},\n",
       " {1, 2, 3, 4}]"
      ]
     },
     "execution_count": 13,
     "metadata": {},
     "output_type": "execute_result"
    }
   ],
   "source": [
    "def sos(A):\n",
    "    powerset = []\n",
    "    for i in range(len(A) + 1):\n",
    "        nset = combinations(A,i)\n",
    "        for item in nset:\n",
    "            powerset.append(set(item))\n",
    "        \n",
    "    return powerset\n",
    "A=({1,2,3,4})\n",
    "sos(A)"
   ]
  },
  {
   "cell_type": "code",
   "execution_count": 16,
   "metadata": {},
   "outputs": [
    {
     "data": {
      "text/plain": [
       "80"
      ]
     },
     "execution_count": 16,
     "metadata": {},
     "output_type": "execute_result"
    }
   ],
   "source": [
    "sum(sum(A) for A in sos(A)) # Sums up the elements in the sets."
   ]
  },
  {
   "cell_type": "markdown",
   "metadata": {},
   "source": [
    "The frozenset functionality I believe has become outdated in 3.7"
   ]
  },
  {
   "cell_type": "code",
   "execution_count": null,
   "metadata": {},
   "outputs": [],
   "source": []
  }
 ],
 "metadata": {
  "kernelspec": {
   "display_name": "Python 3",
   "language": "python",
   "name": "python3"
  },
  "language_info": {
   "codemirror_mode": {
    "name": "ipython",
    "version": 3
   },
   "file_extension": ".py",
   "mimetype": "text/x-python",
   "name": "python",
   "nbconvert_exporter": "python",
   "pygments_lexer": "ipython3",
   "version": "3.7.3"
  }
 },
 "nbformat": 4,
 "nbformat_minor": 2
}
