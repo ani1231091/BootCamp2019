{
 "cells": [
  {
   "cell_type": "markdown",
   "metadata": {},
   "source": [
    "## Lab Objective: \n",
    "Newton’s method, the classical method for finding the zeros of a function, is\n",
    "one of the most important algorithms of all time. In this lab, we implement Newton’s method in\n",
    "arbitrary dimensions and use it to solve a few interesting problems. We also explore in some detail\n",
    "the convergence (or lack of convergence) of the method under various circumstances.\n",
    "\n",
    "Note: I just wanted to use a different color map. I use viridis map."
   ]
  },
  {
   "cell_type": "code",
   "execution_count": 162,
   "metadata": {},
   "outputs": [],
   "source": [
    "import numpy as np\n",
    "import matplotlib.pyplot as plt\n",
    "import scipy as sy\n",
    "import sympy as sp\n",
    "import scipy.optimize as opt"
   ]
  },
  {
   "cell_type": "markdown",
   "metadata": {},
   "source": [
    "## Problem 1 (Newton's Method in one dimension)"
   ]
  },
  {
   "cell_type": "code",
   "execution_count": 163,
   "metadata": {},
   "outputs": [],
   "source": [
    "def g(f, x0, fprime, tol=1e-5, max=15):\n",
    "    \n",
    "    xi = x0\n",
    "    err = tol + 1\n",
    "    converged = False\n",
    "    for i in range(1, max+1):\n",
    "        xi1 = xi - f(xi) / fprime(xi)\n",
    "        err = np.abs(xi1 - xi)\n",
    "        xi = xi1\n",
    "        if err < tol:\n",
    "            converged =True\n",
    "            break\n",
    "\n",
    "    return xi, converged, i"
   ]
  },
  {
   "cell_type": "code",
   "execution_count": 164,
   "metadata": {},
   "outputs": [],
   "source": [
    "def g1(x):\n",
    "    return np.exp(x) - 2\n",
    "def g1prime(x):\n",
    "    return np.exp(x)\n",
    "def g2(x):\n",
    "    return x ** 4 - 3\n",
    "def g2prime(x):\n",
    "    return 4 * x ** 3\n"
   ]
  },
  {
   "cell_type": "code",
   "execution_count": 165,
   "metadata": {},
   "outputs": [
    {
     "data": {
      "text/plain": [
       "(0.6931471805600254, True, 4)"
      ]
     },
     "execution_count": 165,
     "metadata": {},
     "output_type": "execute_result"
    }
   ],
   "source": [
    "z1 = g(g1, 1, g1prime)\n",
    "z1"
   ]
  },
  {
   "cell_type": "code",
   "execution_count": 166,
   "metadata": {},
   "outputs": [],
   "source": [
    "z2 = g(g2, 1, g2prime)\n",
    "z1_opt = opt.newton(g1, 1, g1prime)\n",
    "z2_opt = opt.newton(g2, 1, g2prime)"
   ]
  },
  {
   "cell_type": "code",
   "execution_count": 167,
   "metadata": {},
   "outputs": [
    {
     "name": "stdout",
     "output_type": "stream",
     "text": [
      "(0.6931471805600254, True, 4) (1.3160740129543826, True, 5) 0.6931471805599453 1.3160740129524924\n"
     ]
    }
   ],
   "source": [
    "print (z1,z2,z1_opt,z2_opt)"
   ]
  },
  {
   "cell_type": "code",
   "execution_count": 168,
   "metadata": {},
   "outputs": [
    {
     "name": "stdout",
     "output_type": "stream",
     "text": [
      "[8.01581024e-14 3.06852819e-01 3.30685282e+00]\n"
     ]
    }
   ],
   "source": [
    "print (z1-z1_opt)"
   ]
  },
  {
   "cell_type": "markdown",
   "metadata": {},
   "source": [
    "## Problem 3 (Backtracking and no convergence)"
   ]
  },
  {
   "cell_type": "code",
   "execution_count": 169,
   "metadata": {},
   "outputs": [],
   "source": [
    "def g(f, x0, fprime, alpha, tol=1e-5, maxi=15):\n",
    "    \n",
    "    xi = x0\n",
    "    err = tol + 1\n",
    "    converged = False\n",
    "    for i in range(maxi):\n",
    "        xi1 = xi - alpha * f(xi) / fprime(xi)\n",
    "        err = np.abs(xi1 - xi)\n",
    "        xi = xi1\n",
    "        if err < tol:\n",
    "            converged = True\n",
    "            break\n",
    "\n",
    "    return xi, converged, i\n",
    "\n",
    "f1 = lambda x: np.sign(x) * np.power(np.abs(x), 1./3)\n",
    "fprime1 = lambda x: (1./3) * np.power(np.abs(x), -2./3)"
   ]
  },
  {
   "cell_type": "code",
   "execution_count": 170,
   "metadata": {},
   "outputs": [],
   "source": [
    "g1= g(f_1, .01, fprime_1, 1)"
   ]
  },
  {
   "cell_type": "code",
   "execution_count": 171,
   "metadata": {},
   "outputs": [
    {
     "name": "stdout",
     "output_type": "stream",
     "text": [
      "(-327.6800000000003, False, 14) (6.400000000000134e-07, True, 5)\n"
     ]
    }
   ],
   "source": [
    "g2= g(f_1, .01, fprime_1, .4, maxi=100)\n",
    "print (g1,g2)"
   ]
  },
  {
   "cell_type": "markdown",
   "metadata": {},
   "source": [
    "## Problem 4"
   ]
  },
  {
   "cell_type": "code",
   "execution_count": 172,
   "metadata": {},
   "outputs": [],
   "source": [
    "def g(f, x0, fprime, tol=1e-5, maxi=15):\n",
    "    \n",
    "    alpha = np.linspace(.01, 1, 50)\n",
    "    resu = np.zeros(len(alpha))\n",
    "    \n",
    "    for index, a in enumerate(alpha):\n",
    "        xk = x0\n",
    "        err = tol + 1\n",
    "        for i in range(1, maxi+1):\n",
    "            xk1 = xk - a * f(xk) / fprime(xk)\n",
    "            err = np.abs(xk1 - xk)\n",
    "            xk = xk1\n",
    "            if err < tol:\n",
    "                break\n",
    "        resu[index] = i\n",
    "    return resu"
   ]
  },
  {
   "cell_type": "code",
   "execution_count": 174,
   "metadata": {},
   "outputs": [
    {
     "data": {
      "image/png": "[encoded data removed]",
      "text/plain": [
       "<Figure size 576x360 with 1 Axes>"
      ]
     },
     "metadata": {
      "needs_background": "light"
     },
     "output_type": "display_data"
    }
   ],
   "source": [
    "alpha = np.linspace(.01, 1, 50)\n",
    "resu = g(f1, .01, fprime1, 1e-5,  maxi=150)\n",
    "fig = plt.figure(figsize=(8,5))\n",
    "plt.plot(alpha, resu)\n",
    "plt.xlabel(r'$\\alpha$')\n",
    "plt.ylabel(r'# Iterations')\n",
    "plt.title(r'Plot over $\\alpha$')\n",
    "plt.show()"
   ]
  },
  {
   "cell_type": "markdown",
   "metadata": {},
   "source": [
    "## Basins of Attraction (3rd order, 5th order, 7th Order)"
   ]
  },
  {
   "cell_type": "code",
   "execution_count": 175,
   "metadata": {},
   "outputs": [],
   "source": [
    "def basin(f, fprime, zeros, bounds, res, iters):\n",
    "\n",
    "    x_imag = np.linspace(bounds[2], bounds[3], res)\n",
    "    x_real = np.linspace(bounds[0], bounds[1], res)\n",
    "    X_real, X_imag = np.meshgrid(x_real, x_imag)\n",
    "    X_0 = X_real + 1j*X_imag\n",
    "    \n",
    "    Xk = np.zeros((res,res), dtype=np.float64)\n",
    "    for i in range(iters):\n",
    "        X_1 = X_0 - f(X_0)/fprime(X_0)\n",
    "        X_0 = X_1\n",
    "    \n",
    "    Y = np.fromiter((np.argmin(abs(zeros - i)) for i in X_1.ravel()), \n",
    "                    dtype=np.int64, count=res**2).reshape((res, res))\n",
    "\n",
    "    fig = plt.figure(figsize=(8,5))\n",
    "    plt.pcolormesh(x_real, x_imag, Y, cmap=\"viridis\") #Could have used brg  "
   ]
  },
  {
   "cell_type": "code",
   "execution_count": 176,
   "metadata": {},
   "outputs": [],
   "source": [
    "f = lambda x: x**3 - 1\n",
    "Df = lambda x: 3*x**2\n",
    "zeros = np.array([1, -.5 + 1j * np.sqrt(3) / 2, -.5 - 1j * np.sqrt(3) / 2])\n",
    "bounds = np.array([-1.5, 1.5, -1.5, 1.5])"
   ]
  },
  {
   "cell_type": "code",
   "execution_count": 177,
   "metadata": {},
   "outputs": [
    {
     "data": {
      "image/png": "[encoded data removed]",
      "text/plain": [
       "<Figure size 576x360 with 1 Axes>"
      ]
     },
     "metadata": {
      "needs_background": "light"
     },
     "output_type": "display_data"
    }
   ],
   "source": [
    "basin(f, Df, zeros, bounds, 500, 100)"
   ]
  },
  {
   "cell_type": "code",
   "execution_count": 178,
   "metadata": {},
   "outputs": [],
   "source": [
    "f = lambda x: x**3 - x\n",
    "Df = lambda x: 3*x**2 - 1\n",
    "zeros = np.array([0, 1, -1])\n",
    "bounds = np.array([-1.5, 1.5, -1.5, 1.5])"
   ]
  },
  {
   "cell_type": "code",
   "execution_count": 179,
   "metadata": {},
   "outputs": [
    {
     "data": {
      "image/png": "[encoded data removed]",
      "text/plain": [
       "<Figure size 576x360 with 1 Axes>"
      ]
     },
     "metadata": {
      "needs_background": "light"
     },
     "output_type": "display_data"
    }
   ],
   "source": [
    "basin(f, Df, zeros, bounds, 500, 100)"
   ]
  },
  {
   "cell_type": "code",
   "execution_count": 180,
   "metadata": {},
   "outputs": [],
   "source": [
    "f = lambda x: x**7 - x\n",
    "Df = lambda x: 6*x**6 - 1\n",
    "zeros = np.array([0, 1, -1])\n",
    "bounds = np.array([-1.5, 1.5, -1.5, 1.5])"
   ]
  },
  {
   "cell_type": "code",
   "execution_count": 181,
   "metadata": {},
   "outputs": [
    {
     "data": {
      "image/png": "[encoded data removed]",
      "text/plain": [
       "<Figure size 576x360 with 1 Axes>"
      ]
     },
     "metadata": {
      "needs_background": "light"
     },
     "output_type": "display_data"
    }
   ],
   "source": [
    "basin(f, Df, zeros, bounds, 500, 100)"
   ]
  },
  {
   "cell_type": "code",
   "execution_count": null,
   "metadata": {},
   "outputs": [],
   "source": []
  },
  {
   "cell_type": "code",
   "execution_count": null,
   "metadata": {},
   "outputs": [],
   "source": []
  }
 ],
 "metadata": {
  "kernelspec": {
   "display_name": "Python 3",
   "language": "python",
   "name": "python3"
  },
  "language_info": {
   "codemirror_mode": {
    "name": "ipython",
    "version": 3
   },
   "file_extension": ".py",
   "mimetype": "text/x-python",
   "name": "python",
   "nbconvert_exporter": "python",
   "pygments_lexer": "ipython3",
   "version": "3.7.3"
  }
 },
 "nbformat": 4,
 "nbformat_minor": 2
}
