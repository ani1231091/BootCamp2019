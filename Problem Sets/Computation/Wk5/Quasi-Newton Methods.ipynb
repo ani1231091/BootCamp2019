{
 "cells": [
  {
   "cell_type": "markdown",
   "metadata": {},
   "source": [
    "# Newton and Quasi-Newton Methods"
   ]
  },
  {
   "cell_type": "markdown",
   "metadata": {},
   "source": [
    "Newton’s method is the basis of several iterative methods for optimization. Though\n",
    "it converges quickly, it is often very computationally expensive. Variants on Newton’s method, including BFGS, remedy the problem somewhat by numerically approximating Hessian matrices. In\n",
    "this lab we implement Newton’s method, BFGS, and the Gauss-Newton method for nonlinear least\n",
    "squares problems."
   ]
  },
  {
   "cell_type": "markdown",
   "metadata": {},
   "source": [
    "## Exercise 1: Newton's Method"
   ]
  },
  {
   "cell_type": "code",
   "execution_count": 25,
   "metadata": {},
   "outputs": [],
   "source": [
    "import numpy as np\n",
    "import time\n",
    "import matplotlib.pyplot as plt\n",
    "from scipy import optimize as opt\n",
    "from scipy.optimize import leastsq\n",
    "import pandas as pd"
   ]
  },
  {
   "cell_type": "code",
   "execution_count": 7,
   "metadata": {},
   "outputs": [],
   "source": [
    "def Newton(Df, Hf, x0, maxiter=500, tol=1e-8):\n",
    "    iter = 0\n",
    "    epsi = 1 \n",
    "    D = Df(x0)\n",
    "    H = Hf(x0)\n",
    "    converged = False\n",
    "    while (epsi > tol) & (iter < maxiter):\n",
    "        iter +=1\n",
    "        z = np.linalg.solve(H, D.T)\n",
    "        x = x0 - z\n",
    "        x0 = x\n",
    "        D = Df(x0)\n",
    "        H = Hf(x0)\n",
    "        epsi = np.linalg.norm(D, np.inf)\n",
    "    if  epsi< tol:\n",
    "        converged = True\n",
    "    \n",
    "    return x, converged, iter"
   ]
  },
  {
   "cell_type": "code",
   "execution_count": 3,
   "metadata": {},
   "outputs": [
    {
     "name": "stdout",
     "output_type": "stream",
     "text": [
      "Optimization terminated successfully.\n",
      "         Current function value: 0.000000\n",
      "         Iterations: 35\n",
      "         Function evaluations: 42\n",
      "         Gradient evaluations: 42\n"
     ]
    }
   ],
   "source": [
    "f = opt.rosen # The Rosenbrock function.\n",
    "df = opt.rosen_der # The first derivative.\n",
    "d2f = opt.rosen_hess # The second derivative (Hessian).\n",
    "output = opt.fmin_bfgs(f=f, x0=[-2,2], fprime=df, maxiter=50, retall=True)\n",
    "\n"
   ]
  },
  {
   "cell_type": "code",
   "execution_count": 4,
   "metadata": {},
   "outputs": [
    {
     "data": {
      "text/plain": [
       "(array([1., 1.]), True, 5)"
      ]
     },
     "execution_count": 4,
     "metadata": {},
     "output_type": "execute_result"
    }
   ],
   "source": [
    "Newton(df, d2f, [-2,2])"
   ]
  },
  {
   "cell_type": "markdown",
   "metadata": {},
   "source": [
    "### Exercise 2: BFGS"
   ]
  },
  {
   "cell_type": "code",
   "execution_count": 10,
   "metadata": {},
   "outputs": [],
   "source": [
    "def BFGS(Df, x0, maxiter=1000, tol=1e-8):\n",
    "    iter = 0\n",
    "    epsi = 1 \n",
    "    D = Df(x0)\n",
    "    A0 = np.eye(len(x0),len(x0))\n",
    "    converged = False\n",
    "    while (epsi > tol) & (iter < maxiter):\n",
    "        iter +=1\n",
    "        x = x0 - A0 @ D.T\n",
    "        s = x - x0\n",
    "        y = Df(x).T - D.T\n",
    "\n",
    "        STY = s.T @ y\n",
    "        if STY == 0:\n",
    "            print(\"Dividing by zero!\")\n",
    "            break\n",
    "        \n",
    "        bloc1 = (STY + y.T @ A0 @ y) * np.outer(s,s.T) / ( STY )**2\n",
    "        bloc2 = (A0 @  np.outer(y,s.T) + np.outer(s,y.T) @ A0)/ ( STY )\n",
    "        A = A0 + bloc1 - bloc2\n",
    "        A0 = A\n",
    "\n",
    "\n",
    "        x0 = x\n",
    "        D = Df(x0)\n",
    "\n",
    "        \n",
    "        epsi = np.linalg.norm(D, np.inf)\n",
    "\n",
    "    \n",
    "    if  epsi< tol:\n",
    "\n",
    "        converged = True\n",
    "    \n",
    "    return x, converged, iter\n",
    "\n"
   ]
  },
  {
   "cell_type": "code",
   "execution_count": 11,
   "metadata": {},
   "outputs": [
    {
     "data": {
      "text/plain": [
       "(array([1., 1.]), True, 150)"
      ]
     },
     "execution_count": 11,
     "metadata": {},
     "output_type": "execute_result"
    }
   ],
   "source": [
    "BFGS(df,[-2,2])"
   ]
  },
  {
   "cell_type": "markdown",
   "metadata": {},
   "source": [
    "### Exercise 3"
   ]
  },
  {
   "cell_type": "code",
   "execution_count": 15,
   "metadata": {},
   "outputs": [
    {
     "name": "stdout",
     "output_type": "stream",
     "text": [
      "Dividing by zero!\n",
      "Dividing by zero!\n",
      "Dividing by zero!\n",
      "Dividing by zero!\n",
      "Dividing by zero!\n"
     ]
    },
    {
     "data": {
      "image/png": "[encoded data removed]",
      "text/plain": [
       "<Figure size 432x288 with 1 Axes>"
      ]
     },
     "metadata": {
      "needs_background": "light"
     },
     "output_type": "display_data"
    }
   ],
   "source": [
    "def comparison(N):\n",
    "    x0 = np.random.uniform(low = -3, high = 3, size=(N,2))\n",
    "    speed1 = []\n",
    "    iter1 = []\n",
    "    speed2 = []\n",
    "    iter2 = []\n",
    "    speed3 = []\n",
    "    iter3 = []\n",
    "    for i in range(N):\n",
    "        x = x0[i,:]\n",
    "        start = time.time()\n",
    "        iter1.append(Newton(df, d2f, x)[2])\n",
    "        end = time.time() - start\n",
    "        speed1.append(end)\n",
    "\n",
    "        start = time.time()\n",
    "        iter2.append(BFGS(df, x)[2])\n",
    "        end = time.time() - start\n",
    "        speed2.append(end)\n",
    "\n",
    "        start = time.time()\n",
    "        output = opt.fmin_bfgs(f=f, x0=x, fprime=df, maxiter=500, disp=False, retall = True)\n",
    "        iter3.append(len(output[1]))\n",
    "        end = time.time()  - start\n",
    "        speed3.append(end)\n",
    "        \n",
    "    plt.loglog(speed1, iter1, 'o')\n",
    "    plt.loglog(speed2, iter2, 'o')\n",
    "    plt.loglog(speed3, iter3, 'o')\n",
    "    plt.legend(['Newtons Method', 'BFGS', 'scipy.optimize.fmin_bfgs'])\n",
    "    plt.show()\n",
    "\n",
    "    \n",
    "comparison(1000)"
   ]
  },
  {
   "cell_type": "markdown",
   "metadata": {},
   "source": [
    "## Exercise 4: Gauss-Newton Method"
   ]
  },
  {
   "cell_type": "code",
   "execution_count": 18,
   "metadata": {},
   "outputs": [],
   "source": [
    "def gauss_newton(r, jac, x0, maxiter=100000, tol=1e-15):\n",
    "    iter = 0\n",
    "    epsi = 1 \n",
    "    JJ = lambda x: jac(x).T @ jac(x)\n",
    "    J = jac(x0)\n",
    "    converged = False\n",
    "    while (epsi > tol) & (iter < maxiter):\n",
    "        iter += 1\n",
    "\n",
    "        z = np.linalg.solve(JJ(x0), J.T @ r(x0))\n",
    "\n",
    "        x = x0 - z\n",
    "        epsi = np.linalg.norm(x-x0, 2)\n",
    "        print(\"Error is\", epsi)\n",
    "        #Update\n",
    "        x0 = x\n",
    "        J = jac(x0)\n",
    "    if  epsi< tol:\n",
    "        print(\"Converged!\")\n",
    "        converged = True\n",
    "        \n",
    "    result = [x, iter, converged]\n",
    "    return result"
   ]
  },
  {
   "cell_type": "code",
   "execution_count": 19,
   "metadata": {},
   "outputs": [],
   "source": [
    "import numpy as np\n",
    "from matplotlib import pyplot as plt\n",
    "# Generate random data for t = 0, 1, ..., 10.\n",
    "T = np.arange(10)\n",
    "y = 3*np.sin(0.5*T)+ 0.5*np.random.randn(10) # Perturbed data.\n",
    "# Define the model function and the residual (based on the data).\n",
    "model = lambda x, t: x[0]*np.sin(x[1]*t) # phi(x,t)\n",
    "residual = lambda x: model(x, T) - y # r(x) = phi(x,t) - y\n",
    "# Define the Jacobian of the residual function, computed by hand.\n",
    "jac = lambda x: np.column_stack((np.sin(x[1]*T, x[0]*T*np.cos(x[1]*T))))"
   ]
  },
  {
   "cell_type": "code",
   "execution_count": 20,
   "metadata": {},
   "outputs": [
    {
     "name": "stdout",
     "output_type": "stream",
     "text": [
      "Error is 0.21177216655819942\n",
      "Error is 0.7386905880874423\n",
      "Error is 0.013745446467370444\n",
      "Error is 0.0008589764713215847\n",
      "Error is 4.0931972150325e-06\n",
      "Error is 3.955943879658335e-08\n",
      "Error is 4.1675151654663973e-10\n",
      "Error is 4.384301976039968e-12\n",
      "Error is 4.552702997179622e-14\n",
      "Error is 5.551115123125783e-17\n",
      "Converged!\n"
     ]
    },
    {
     "data": {
      "text/plain": [
       "[array([3.41699611, 0.48409832]), 10, True]"
      ]
     },
     "execution_count": 20,
     "metadata": {},
     "output_type": "execute_result"
    }
   ],
   "source": [
    "x0 = np.array([2.5,.6])\n",
    "jac = lambda x: np.column_stack((np.sin(x[1]*T), x[0]*T*np.cos(x[1]*T)))\n",
    "gauss_newton(residual, jac, x0)"
   ]
  },
  {
   "cell_type": "code",
   "execution_count": 21,
   "metadata": {
    "scrolled": true
   },
   "outputs": [
    {
     "data": {
      "text/plain": [
       "(array([3.41699615, 0.48409831]), 1)"
      ]
     },
     "execution_count": 21,
     "metadata": {},
     "output_type": "execute_result"
    }
   ],
   "source": [
    "opt.leastsq(func=residual, x0=np.array([2.5,.6]), Dfun=jac)"
   ]
  },
  {
   "cell_type": "markdown",
   "metadata": {},
   "source": [
    "## Exercise 5: NLS"
   ]
  },
  {
   "cell_type": "code",
   "execution_count": 26,
   "metadata": {},
   "outputs": [
    {
     "data": {
      "text/plain": [
       "array([[  0.   ,   3.929],\n",
       "       [  1.   ,   5.308],\n",
       "       [  2.   ,   7.24 ],\n",
       "       [  3.   ,   9.638],\n",
       "       [  4.   ,  12.866],\n",
       "       [  5.   ,  17.069],\n",
       "       [  6.   ,  23.192],\n",
       "       [  7.   ,  31.443],\n",
       "       [  8.   ,  38.558],\n",
       "       [  9.   ,  50.156],\n",
       "       [ 10.   ,  62.948],\n",
       "       [ 11.   ,  75.996],\n",
       "       [ 12.   ,  91.972],\n",
       "       [ 13.   , 105.711],\n",
       "       [ 14.   , 122.775],\n",
       "       [ 15.   , 131.669]])"
      ]
     },
     "execution_count": 26,
     "metadata": {},
     "output_type": "execute_result"
    }
   ],
   "source": [
    "data = np.load('population.npy')\n",
    "data"
   ]
  },
  {
   "cell_type": "code",
   "execution_count": 27,
   "metadata": {},
   "outputs": [
    {
     "name": "stdout",
     "output_type": "stream",
     "text": [
      "[1.67729595 0.18474177 9.11885064]\n"
     ]
    }
   ],
   "source": [
    "time = pd.date_range('1790', periods= 16, freq = '10Y' )\n",
    "\n",
    "dataset = pd.DataFrame(data[:,1], index = time)\n",
    "# dataset.plot()\n",
    "# # plt.plot(time, data[:,1])\n",
    "# # plt.show()\n",
    "\n",
    "x0 = np.array([1.5, .4, 2.5])\n",
    "model1 = lambda x, t: x[0]*np.exp(x[1]*(t + x[2]))\n",
    "T = data[:,0]\n",
    "y = data[:,1]\n",
    "residual = lambda x: model1(x, T) - y\n",
    "\n",
    "# Define the Jacobian of the residual function, computed by hand.\n",
    "jac = lambda x: np.column_stack((np.exp(x[1]*(T + x[2])), \\\n",
    "                                 (T + x[2])*x[0]*np.exp(x[1]*(T + x[2])), \\\n",
    "                                x[1]*x[0]*np.exp(x[1]*(T + x[2]))))\n",
    "                                \n",
    "                                \n",
    "X = leastsq(func=residual, x0=x0, Dfun=jac)[0]\n",
    "\n",
    "print(X)"
   ]
  },
  {
   "cell_type": "code",
   "execution_count": 28,
   "metadata": {},
   "outputs": [
    {
     "data": {
      "image/png": "[encoded data removed]",
      "text/plain": [
       "<Figure size 432x288 with 1 Axes>"
      ]
     },
     "metadata": {
      "needs_background": "light"
     },
     "output_type": "display_data"
    }
   ],
   "source": [
    "yhat = model1(X,T)\n",
    "plt.plot(time, data[:,1])\n",
    "plt.plot(time, yhat)\n",
    "plt.legend(['US Population', 'model'])\n",
    "plt.title('US Population since 1790')\n",
    "plt.show()"
   ]
  },
  {
   "cell_type": "code",
   "execution_count": 29,
   "metadata": {},
   "outputs": [
    {
     "name": "stdout",
     "output_type": "stream",
     "text": [
      "[175.92019886   0.33629982 -11.72522672]\n"
     ]
    }
   ],
   "source": [
    "#Different model\n",
    "\n",
    "x0 = np.array([150, .4, -15])\n",
    "model = lambda x, t: x[0]/(1 + np.exp(-x[1]*(t + x[2])))\n",
    "T = data[:,0]\n",
    "y = data[:,1]\n",
    "residual = lambda x: model(x, T) - y\n",
    "\n",
    "# Define the Jacobian of the residual function, computed by hand.\n",
    "jac = lambda x: np.column_stack((1/(1 + np.exp(-x[1]*(T + x[2]))), \\\n",
    "                                 x[0]*(T + x[2])*(1 + np.exp(-x[1]*(T + x[2])))**(-2), \\\n",
    "                                 x[0]*x[1]*(1 + np.exp(-x[1]*(T + x[2])))**(-2)))\n",
    "                                \n",
    "                                \n",
    "X = leastsq(func=residual, x0=x0, Dfun=jac)[0]\n",
    "print(X)"
   ]
  },
  {
   "cell_type": "code",
   "execution_count": 30,
   "metadata": {},
   "outputs": [
    {
     "data": {
      "image/png": "[encoded data removed]",
      "text/plain": [
       "<Figure size 432x288 with 1 Axes>"
      ]
     },
     "metadata": {
      "needs_background": "light"
     },
     "output_type": "display_data"
    }
   ],
   "source": [
    "yhat = model(X,T)\n",
    "plt.plot(time, data[:,1])\n",
    "plt.plot(time, yhat)\n",
    "plt.legend(['US Population', 'model'])\n",
    "plt.title('US Population since 1790')\n",
    "plt.show()"
   ]
  },
  {
   "cell_type": "code",
   "execution_count": null,
   "metadata": {},
   "outputs": [],
   "source": []
  }
 ],
 "metadata": {
  "kernelspec": {
   "display_name": "Python 3",
   "language": "python",
   "name": "python3"
  },
  "language_info": {
   "codemirror_mode": {
    "name": "ipython",
    "version": 3
   },
   "file_extension": ".py",
   "mimetype": "text/x-python",
   "name": "python",
   "nbconvert_exporter": "python",
   "pygments_lexer": "ipython3",
   "version": "3.7.3"
  }
 },
 "nbformat": 4,
 "nbformat_minor": 2
}
