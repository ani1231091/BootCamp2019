{
 "cells": [
  {
   "cell_type": "markdown",
   "metadata": {},
   "source": [
    "## Pandas Lab 1 (1-4, I additionally do 5 and 6)\n",
    "Lab Objective: Though NumPy and SciPy are powerful tools for numerical computing, they lack\n",
    "some of the high-level functionality necessary for many data science applications. Python’s pandas\n",
    "library, built on NumPy, is designed specifically for data management and analysis. In this lab,\n",
    "we introduce pandas data structures, syntax, and explore its capabilities for quickly analyzing and\n",
    "presenting data.\n"
   ]
  },
  {
   "cell_type": "markdown",
   "metadata": {},
   "source": [
    "# Q1."
   ]
  },
  {
   "cell_type": "code",
   "execution_count": 11,
   "metadata": {},
   "outputs": [],
   "source": [
    "import numpy as np\n",
    "import pandas as pd\n",
    "from scipy.stats import linregress\n",
    "import matplotlib.pyplot as plt"
   ]
  },
  {
   "cell_type": "code",
   "execution_count": 2,
   "metadata": {},
   "outputs": [
    {
     "data": {
      "text/plain": [
       "0        0\n",
       "2        3\n",
       "4       15\n",
       "6        0\n",
       "8       63\n",
       "10      99\n",
       "12       0\n",
       "14     195\n",
       "16     255\n",
       "18       0\n",
       "20     399\n",
       "22     483\n",
       "24       0\n",
       "26     675\n",
       "28     783\n",
       "30       0\n",
       "32    1023\n",
       "34    1155\n",
       "36       0\n",
       "38    1443\n",
       "40    1599\n",
       "42       0\n",
       "44    1935\n",
       "46    2115\n",
       "48       0\n",
       "50    2499\n",
       "dtype: int32"
      ]
     },
     "execution_count": 2,
     "metadata": {},
     "output_type": "execute_result"
    }
   ],
   "source": [
    "index = np.arange(0,52,2) #vary as per needed\n",
    "ser= pd.Series((index ** 2) - 1, index=index)\n",
    "ser[index % 3 == 0] = 0\n",
    "ser"
   ]
  },
  {
   "cell_type": "markdown",
   "metadata": {},
   "source": [
    "# Q2."
   ]
  },
  {
   "cell_type": "code",
   "execution_count": 3,
   "metadata": {},
   "outputs": [],
   "source": [
    "def up(p,d):\n",
    "    if np.random.binomial(1,p):\n",
    "        d += 1\n",
    "    else:\n",
    "        d -= 1\n",
    "    return d\n",
    "\n",
    "def q2(p=0.5, d=100):\n",
    "    \n",
    "    index = pd.date_range(start='2000-01-01', end='2000-12-31')\n",
    "    stocks = pd.Series(0 ,index)\n",
    "    \n",
    "    stocks[0] = d\n",
    "    \n",
    "    \n",
    "    for i in range(len(stocks)-1):\n",
    "        stocks[i+1] = up(p, stocks[i])\n",
    "        if stocks[i+1] <= 0:\n",
    "            stocks[i+1] = 0\n",
    "            \n",
    "    return stocks"
   ]
  },
  {
   "cell_type": "code",
   "execution_count": 4,
   "metadata": {},
   "outputs": [
    {
     "data": {
      "text/plain": [
       "2000-01-01     10\n",
       "2000-01-02     11\n",
       "2000-01-03     10\n",
       "2000-01-04     11\n",
       "2000-01-05     12\n",
       "2000-01-06     13\n",
       "2000-01-07     14\n",
       "2000-01-08     15\n",
       "2000-01-09     16\n",
       "2000-01-10     17\n",
       "2000-01-11     18\n",
       "2000-01-12     19\n",
       "2000-01-13     20\n",
       "2000-01-14     21\n",
       "2000-01-15     22\n",
       "2000-01-16     23\n",
       "2000-01-17     24\n",
       "2000-01-18     25\n",
       "2000-01-19     26\n",
       "2000-01-20     27\n",
       "2000-01-21     28\n",
       "2000-01-22     29\n",
       "2000-01-23     30\n",
       "2000-01-24     31\n",
       "2000-01-25     32\n",
       "2000-01-26     33\n",
       "2000-01-27     34\n",
       "2000-01-28     35\n",
       "2000-01-29     36\n",
       "2000-01-30     37\n",
       "             ... \n",
       "2000-12-02    272\n",
       "2000-12-03    273\n",
       "2000-12-04    274\n",
       "2000-12-05    273\n",
       "2000-12-06    274\n",
       "2000-12-07    275\n",
       "2000-12-08    274\n",
       "2000-12-09    275\n",
       "2000-12-10    276\n",
       "2000-12-11    275\n",
       "2000-12-12    276\n",
       "2000-12-13    277\n",
       "2000-12-14    278\n",
       "2000-12-15    279\n",
       "2000-12-16    278\n",
       "2000-12-17    279\n",
       "2000-12-18    278\n",
       "2000-12-19    279\n",
       "2000-12-20    280\n",
       "2000-12-21    281\n",
       "2000-12-22    282\n",
       "2000-12-23    283\n",
       "2000-12-24    284\n",
       "2000-12-25    285\n",
       "2000-12-26    286\n",
       "2000-12-27    287\n",
       "2000-12-28    288\n",
       "2000-12-29    289\n",
       "2000-12-30    290\n",
       "2000-12-31    291\n",
       "Freq: D, Length: 366, dtype: int64"
      ]
     },
     "execution_count": 4,
     "metadata": {},
     "output_type": "execute_result"
    }
   ],
   "source": [
    "q2(p=0.5, d=100)\n",
    "q2(p=0.6, d=100)\n",
    "q2(p=0.7, d=10)\n",
    "q2(p=0.8, d=10)\n",
    "q2(p=0.9, d=10)"
   ]
  },
  {
   "cell_type": "markdown",
   "metadata": {},
   "source": [
    "# Q3."
   ]
  },
  {
   "cell_type": "code",
   "execution_count": 5,
   "metadata": {},
   "outputs": [],
   "source": [
    "name = ['Mylan', 'Regan', 'Justin', \n",
    "        'Jess', 'Jason', 'Remi', 'Matt', 'Alexander', 'JeanMarie'] # Use the following data\n",
    "sex = ['M', 'F', 'M', 'F', 'M', 'F', 'M', 'M', 'F']\n",
    "age = [20, 21, 18, 22, 19, 20, 20, 19, 20]\n",
    "rank = ['Sp', 'Se', 'Fr', 'Se', 'Sp', 'J', 'J', 'J', 'Se']\n",
    "ID = range(9)\n",
    "aid = ['y', 'n', 'n', 'y', 'n', 'n', 'n', 'y', 'n']\n",
    "GPA = [3.8, 3.5, 3.0, 3.9, 2.8, 2.9, 3.8, 3.4, 3.7]\n",
    "mathID = [0, 1, 5, 6, 3]\n",
    "mathGd = [4.0, 3.0, 3.5, 3.0, 4.0]\n",
    "major = ['y', 'n', 'y', 'n', 'n']\n",
    "studentInfo = pd.DataFrame({'ID': ID, 'Name': name, \n",
    "                            'Sex': sex, 'Age': age, 'Class': rank})\n",
    "otherInfo = pd.DataFrame({'ID': ID, 'GPA': GPA, \n",
    "                              'Financial_Aid': aid})\n",
    "mathInfo = pd.DataFrame({'ID': mathID, 'Grade': mathGd, \n",
    "                             'Math_Major': major})"
   ]
  },
  {
   "cell_type": "code",
   "execution_count": 6,
   "metadata": {},
   "outputs": [
    {
     "name": "stderr",
     "output_type": "stream",
     "text": [
      "C:\\Users\\AKG\\AppData\\Roaming\\Python\\Python37\\site-packages\\ipykernel_launcher.py:1: UserWarning: Boolean Series key will be reindexed to match DataFrame index.\n",
      "  \"\"\"Entry point for launching an IPython kernel.\n"
     ]
    },
    {
     "data": {
      "text/html": [
       "<div>\n",
       "<style scoped>\n",
       "    .dataframe tbody tr th:only-of-type {\n",
       "        vertical-align: middle;\n",
       "    }\n",
       "\n",
       "    .dataframe tbody tr th {\n",
       "        vertical-align: top;\n",
       "    }\n",
       "\n",
       "    .dataframe thead th {\n",
       "        text-align: right;\n",
       "    }\n",
       "</style>\n",
       "<table border=\"1\" class=\"dataframe\">\n",
       "  <thead>\n",
       "    <tr style=\"text-align: right;\">\n",
       "      <th></th>\n",
       "      <th>ID</th>\n",
       "      <th>Name</th>\n",
       "    </tr>\n",
       "  </thead>\n",
       "  <tbody>\n",
       "    <tr>\n",
       "      <th>0</th>\n",
       "      <td>0</td>\n",
       "      <td>Mylan</td>\n",
       "    </tr>\n",
       "    <tr>\n",
       "      <th>6</th>\n",
       "      <td>6</td>\n",
       "      <td>Matt</td>\n",
       "    </tr>\n",
       "  </tbody>\n",
       "</table>\n",
       "</div>"
      ],
      "text/plain": [
       "   ID   Name\n",
       "0   0  Mylan\n",
       "6   6   Matt"
      ]
     },
     "execution_count": 6,
     "metadata": {},
     "output_type": "execute_result"
    }
   ],
   "source": [
    "studentInfo[studentInfo['Age'] > 19][studentInfo['Sex']=='M'][['ID','Name']]\n",
    "\n",
    "# SELECT ID, Name from \n",
    "# WHERE Age > 19 AND Sex = 'M' , could be modified according to criterions"
   ]
  },
  {
   "cell_type": "markdown",
   "metadata": {},
   "source": [
    "# Q4."
   ]
  },
  {
   "cell_type": "code",
   "execution_count": 7,
   "metadata": {},
   "outputs": [
    {
     "data": {
      "text/html": [
       "<div>\n",
       "<style scoped>\n",
       "    .dataframe tbody tr th:only-of-type {\n",
       "        vertical-align: middle;\n",
       "    }\n",
       "\n",
       "    .dataframe tbody tr th {\n",
       "        vertical-align: top;\n",
       "    }\n",
       "\n",
       "    .dataframe thead th {\n",
       "        text-align: right;\n",
       "    }\n",
       "</style>\n",
       "<table border=\"1\" class=\"dataframe\">\n",
       "  <thead>\n",
       "    <tr style=\"text-align: right;\">\n",
       "      <th></th>\n",
       "      <th>ID</th>\n",
       "      <th>Age</th>\n",
       "      <th>GPA</th>\n",
       "    </tr>\n",
       "  </thead>\n",
       "  <tbody>\n",
       "    <tr>\n",
       "      <th>0</th>\n",
       "      <td>0</td>\n",
       "      <td>20</td>\n",
       "      <td>3.8</td>\n",
       "    </tr>\n",
       "    <tr>\n",
       "      <th>3</th>\n",
       "      <td>6</td>\n",
       "      <td>20</td>\n",
       "      <td>3.8</td>\n",
       "    </tr>\n",
       "  </tbody>\n",
       "</table>\n",
       "</div>"
      ],
      "text/plain": [
       "   ID  Age  GPA\n",
       "0   0   20  3.8\n",
       "3   6   20  3.8"
      ]
     },
     "execution_count": 7,
     "metadata": {},
     "output_type": "execute_result"
    }
   ],
   "source": [
    "df = pd.merge(studentInfo[studentInfo['Sex']=='M'] ,otherInfo, on='ID')[['ID','Age','GPA']]\n",
    "df= df[df['Age']>19]\n",
    "df"
   ]
  },
  {
   "cell_type": "markdown",
   "metadata": {},
   "source": [
    "# Q5."
   ]
  },
  {
   "cell_type": "code",
   "execution_count": 8,
   "metadata": {},
   "outputs": [
    {
     "name": "stdout",
     "output_type": "stream",
     "text": [
      "top 5 years in decending order of crime amount\n",
      "\n",
      "1980\n",
      "1991\n",
      "1981\n",
      "1990\n",
      "1989\n",
      "\n",
      "Special years\n",
      "\n",
      "1973\n",
      "1974\n"
     ]
    },
    {
     "data": {
      "image/png": "[encoded data removed]",
      "text/plain": [
       "<Figure size 432x288 with 1 Axes>"
      ]
     },
     "metadata": {
      "needs_background": "light"
     },
     "output_type": "display_data"
    },
    {
     "data": {
      "image/png": "[encoded data removed]",
      "text/plain": [
       "<Figure size 432x288 with 1 Axes>"
      ]
     },
     "metadata": {
      "needs_background": "light"
     },
     "output_type": "display_data"
    }
   ],
   "source": [
    "df = pd.read_csv('crime_data.txt', skiprows = [0], index_col=0)\n",
    "\n",
    "# new column, crime rate\n",
    "df = df.assign(Crime_Rate=(df['Total'] / df['Population']))\n",
    "\n",
    "fig, ax = plt.subplots(1,1)\n",
    "plt.plot(df.index, df['Crime_Rate'])\n",
    "ax.legend(['Crime Rate over Time'])\n",
    "\n",
    "\n",
    "# top 5 years in decending order of crime amount\n",
    "cr = df.sort_values(['Crime_Rate'])[-5:][::-1]\n",
    "print('top 5 years in decending order of crime amount\\n')\n",
    "[print(i) for i in cr.index.values]\n",
    "\n",
    "# Calculate the average number of total crimes \n",
    "# as well as burglary crimes between 1960 and 2012.\n",
    "\n",
    "avg_tot = df['Total'].mean()\n",
    "avg_burg = df['Burglary'].mean()\n",
    "\n",
    "# Find the years for which the total number of crimes was \n",
    "# below average, but the number of burglaries was above average.\n",
    "\n",
    "myYears = df.loc[(df['Total'] < avg_tot) & (df['Burglary'] > avg_burg)]\n",
    "print('\\nSpecial years\\n')\n",
    "[print(i) for i in myYears.index.values]\n",
    "\n",
    "regression = linregress(df['Population'], df['Murder'])\n",
    "slope, intercept = regression[0], regression[1]\n",
    "\n",
    "fig1, ax1 = plt.subplots(1,1)\n",
    "plt.scatter(df['Population'], df['Murder'], alpha=0.6)\n",
    "plt.plot(df['Population'], intercept + slope * df['Population'],'r--')\n",
    "ax1.legend(['Regression Murders vs Population'])\n",
    "\n",
    "df_out = df[['Population', 'Violent', 'Robbery']]\n",
    "\n",
    "idx = [1979 < i < 1990 for i in df_out.index.values]\n",
    "df_out = df_out.iloc[idx,:]\n",
    "df_out.to_csv('crime_subset.csv')"
   ]
  },
  {
   "cell_type": "markdown",
   "metadata": {},
   "source": [
    "# Q6."
   ]
  },
  {
   "cell_type": "code",
   "execution_count": 9,
   "metadata": {},
   "outputs": [],
   "source": [
    "titanic  = pd.read_csv('titanic.csv')\n",
    "titanic = titanic.drop([\"Sibsp\", \"Parch\", \"Cabin\", \"Boat\", \"Body\", \"home.dest\"], axis=1)\n",
    "titanic.dropna(subset=['Survived'], inplace=True)\n",
    "titanic.Survived.replace({1: True, 0: False}, inplace=True)\n",
    "titanic.Age.fillna(titanic.Age.mean())\n",
    "titanic.to_csv('titanic_clean.csv')"
   ]
  },
  {
   "cell_type": "markdown",
   "metadata": {},
   "source": [
    "Next, answer the following questions.\n",
    "• How many people survived? What percentage of passengers survived?\n",
    "\n",
    "• What was the average price of a ticket? How much did the most expensive ticket cost?\n",
    "\n",
    "• How old was the oldest survivor? How young was the youngest survivor? What about\n",
    "non-survivors?"
   ]
  },
  {
   "cell_type": "code",
   "execution_count": 10,
   "metadata": {},
   "outputs": [
    {
     "name": "stdout",
     "output_type": "stream",
     "text": [
      "500\n",
      "38.19709702062643 %\n",
      "33.29547928134572\n",
      "512.3292\n",
      "80.0\n",
      "0.1667\n",
      "74.0\n",
      "0.3333\n"
     ]
    }
   ],
   "source": [
    "print(titanic.Survived.sum())\n",
    "print(titanic.Survived.sum() / len(titanic) * 100, '%')\n",
    "print(titanic.Fare.mean())\n",
    "print(titanic.Fare.max())\n",
    "print(titanic[titanic.Survived].Age.max())\n",
    "print(titanic[titanic.Survived].Age.min())\n",
    "print(titanic[titanic.Survived == False].Age.max())\n",
    "print(titanic[titanic.Survived == False].Age.min())"
   ]
  },
  {
   "cell_type": "code",
   "execution_count": null,
   "metadata": {},
   "outputs": [],
   "source": []
  }
 ],
 "metadata": {
  "kernelspec": {
   "display_name": "Python 3",
   "language": "python",
   "name": "python3"
  },
  "language_info": {
   "codemirror_mode": {
    "name": "ipython",
    "version": 3
   },
   "file_extension": ".py",
   "mimetype": "text/x-python",
   "name": "python",
   "nbconvert_exporter": "python",
   "pygments_lexer": "ipython3",
   "version": "3.7.3"
  }
 },
 "nbformat": 4,
 "nbformat_minor": 2
}
