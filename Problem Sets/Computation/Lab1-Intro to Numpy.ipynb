{
 "cells": [
  {
   "cell_type": "markdown",
   "metadata": {},
   "source": [
    "## Lab 1- Intro to Numpy (Ani)"
   ]
  },
  {
   "cell_type": "markdown",
   "metadata": {},
   "source": [
    "## Lab Objective\n",
    "NumPy is a powerful Python package for manipulating data with multi-dimensional\n",
    "vectors. Its versatility and speed makes Python an ideal language for applied and computational\n",
    "mathematics. In this lab we introduce basic NumPy data structures and operations as a first step to\n",
    "numerical computing in Python.\n",
    "\n",
    "The following notebook contains the solution to problems 1-7 from the Intro to Numpy exercise."
   ]
  },
  {
   "cell_type": "code",
   "execution_count": 1,
   "metadata": {},
   "outputs": [],
   "source": [
    "import numpy as np #Basic import\n",
    "import scipy as sy\n",
    "import matplotlib.pyplot as plt"
   ]
  },
  {
   "cell_type": "markdown",
   "metadata": {},
   "source": [
    "## Problem 1"
   ]
  },
  {
   "cell_type": "code",
   "execution_count": 2,
   "metadata": {},
   "outputs": [
    {
     "data": {
      "text/plain": [
       "array([[ 37,  14, -32, -10],\n",
       "       [-54,  -7,  58,  65]])"
      ]
     },
     "execution_count": 2,
     "metadata": {},
     "output_type": "execute_result"
    }
   ],
   "source": [
    "import numpy as np\n",
    "\n",
    "def mat():\n",
    "    A = np.array([[3, -1, 4], [1, 5, -9]]) # a 2 by 3 matrix\n",
    "    B = np.array([[2, 6, -5, 3], [5, -8, 9, 7], [9, -3, -2, -3]]) # a 3 by 4 matrix\n",
    "    return A @ B\n",
    "\n",
    "mat()\n"
   ]
  },
  {
   "cell_type": "markdown",
   "metadata": {},
   "source": [
    "## Problem 2"
   ]
  },
  {
   "cell_type": "markdown",
   "metadata": {},
   "source": [
    "## A demonstration of Cayley Hamilton Theorem\n",
    "The Cayley–Hamilton theorem states that substituting the matrix A for its scalar element in the base ring results in this polynomial returning the zero matrix.\n"
   ]
  },
  {
   "cell_type": "code",
   "execution_count": 3,
   "metadata": {},
   "outputs": [
    {
     "data": {
      "text/plain": [
       "array([[0, 0, 0],\n",
       "       [0, 0, 0],\n",
       "       [0, 0, 0]])"
      ]
     },
     "execution_count": 3,
     "metadata": {},
     "output_type": "execute_result"
    }
   ],
   "source": [
    "def Cayley():\n",
    "    A = np.array([[3, 1, 4], [1, 5, 9], [-5, 3, 1]])\n",
    "    CH = (-1) * (A @ A @ A) + 9 * (A @ A) -15 * A\n",
    "    return CH\n",
    "\n",
    "Cayley() #A demonstration of Cayley Hamilton Theorem (The zero matrix is returned.)"
   ]
  },
  {
   "cell_type": "markdown",
   "metadata": {},
   "source": [
    "## Problem 3"
   ]
  },
  {
   "cell_type": "markdown",
   "metadata": {},
   "source": [
    "## Writing a function w/o using np.array  (a 7 by 7 by 7 product)\n",
    "\n",
    "Observation helps in this problem. It is easy to recognise that the A matrix here is upper triangular and the tools in this section tell exactly how one needs to go about them and then sequentially going about replacing with 5 in matrix B. Following this chain, one then changes it to an int"
   ]
  },
  {
   "cell_type": "code",
   "execution_count": 4,
   "metadata": {},
   "outputs": [
    {
     "data": {
      "text/plain": [
       "(array([[ -7,  -8,  -3,   8,  25,  48,  77],\n",
       "        [ -6, -12, -12,  -6,   6,  24,  48],\n",
       "        [ -5, -10, -15, -14,  -7,   6,  25],\n",
       "        [ -4,  -8, -12, -16, -14,  -6,   8],\n",
       "        [ -3,  -6,  -9, -12, -15, -12,  -3],\n",
       "        [ -2,  -4,  -6,  -8, -10, -12,  -8],\n",
       "        [ -1,  -2,  -3,  -4,  -5,  -6,  -7]], dtype=int64),\n",
       " array([[ -29.,  -64.,  -69.,  -44.,   11.,   96.,  211.],\n",
       "        [ -23.,  -52.,  -87.,  -92.,  -67.,  -12.,   73.],\n",
       "        [ -17.,  -40.,  -69., -104., -109.,  -84.,  -29.],\n",
       "        [ -11.,  -28.,  -51.,  -80., -115., -120.,  -95.],\n",
       "        [  -5.,  -16.,  -33.,  -56.,  -85., -120., -125.],\n",
       "        [   1.,   -4.,  -15.,  -32.,  -55.,  -84., -119.],\n",
       "        [   7.,    8.,    3.,   -8.,  -25.,  -48.,  -77.]]),\n",
       " array([[ -77., -119., -125.,  -95.,  -29.,   73.,  211.],\n",
       "        [ -48.,  -84., -120., -120.,  -84.,  -12.,   96.],\n",
       "        [ -25.,  -55.,  -85., -115., -109.,  -67.,   11.],\n",
       "        [  -8.,  -32.,  -56.,  -80., -104.,  -92.,  -44.],\n",
       "        [   3.,  -15.,  -33.,  -51.,  -69.,  -87.,  -69.],\n",
       "        [   8.,   -4.,  -16.,  -28.,  -40.,  -52.,  -64.],\n",
       "        [   7.,    1.,   -5.,  -11.,  -17.,  -23.,  -29.]]))"
      ]
     },
     "execution_count": 4,
     "metadata": {},
     "output_type": "execute_result"
    }
   ],
   "source": [
    "def f():\n",
    "    # Create A\n",
    "    A = np.ones((7,7))\n",
    "    A = np.triu(A)\n",
    "    \n",
    "    # Create B\n",
    "    B1 = (-1) * np.ones((7,7))\n",
    "    B1 = np.tril(B1)   \n",
    "    B2 = (5) * np.ones((7,7))\n",
    "    B2 = np.triu(B2, 1)    \n",
    "    B = B1 + B2 \n",
    "    \n",
    "    # Calculate matrix product ABA, BBA, ABB\n",
    "    p1 = A @ B @ A\n",
    "    p2 = B @ B @ A\n",
    "    p3 = A @ B @ B\n",
    "    # Change data type to np.int64\n",
    "    p1 = p1.astype(np.int64)\n",
    "    \n",
    "    return p1,p2,p3\n",
    "    \n",
    "f() # A 7 by 7 matrix"
   ]
  },
  {
   "cell_type": "markdown",
   "metadata": {},
   "source": [
    "## Problem 4 (Fancy Indexing)"
   ]
  },
  {
   "cell_type": "code",
   "execution_count": 5,
   "metadata": {},
   "outputs": [
    {
     "data": {
      "text/plain": [
       "array([0, 0, 5, 9, 0])"
      ]
     },
     "execution_count": 5,
     "metadata": {},
     "output_type": "execute_result"
    }
   ],
   "source": [
    "def f(a):\n",
    "    fc = np.copy(a) # Use np.copy\n",
    "    i0 = fc < 0 # Fancy indexing to set negative entries of the copy to zero\n",
    "    fc[i0] = 0\n",
    "    return fc\n",
    "\n",
    "a = np.array([-3, -4, 5, 9, 0])\n",
    "f(a) # No negative entries"
   ]
  },
  {
   "cell_type": "markdown",
   "metadata": {},
   "source": [
    "## Problem 5 (Block Matrix)"
   ]
  },
  {
   "cell_type": "code",
   "execution_count": 6,
   "metadata": {},
   "outputs": [
    {
     "data": {
      "text/plain": [
       "array([[ 0.,  0.,  0.,  0.,  1.,  1.,  0.,  0.],\n",
       "       [ 0.,  0.,  0.,  2.,  3.,  0.,  1.,  0.],\n",
       "       [ 0.,  0.,  0.,  4.,  5.,  0.,  0.,  1.],\n",
       "       [ 0.,  2.,  4.,  0.,  0.,  0.,  0.,  0.],\n",
       "       [ 1.,  3.,  5.,  0.,  0.,  0.,  0.,  0.],\n",
       "       [ 3.,  0.,  0.,  0.,  0., -2.,  0.,  0.],\n",
       "       [ 3.,  3.,  0.,  0.,  0.,  0., -2.,  0.],\n",
       "       [ 3.,  3.,  3.,  0.,  0.,  0.,  0., -2.]])"
      ]
     },
     "execution_count": 6,
     "metadata": {},
     "output_type": "execute_result"
    }
   ],
   "source": [
    "def f():\n",
    "    A = np.array([[0, 2, 4], [1, 3, 5]])\n",
    "    \n",
    "    B = 3 * np.ones((3,3))\n",
    "    B = np.tril(B)\n",
    "    \n",
    "    C = np.diag([-2, -2, -2])\n",
    "\n",
    "    r1 = np.column_stack((np.zeros((3,3)), A.T, np.eye(3)))\n",
    "    r2 = np.column_stack((A, np.zeros((2,2)), np.zeros((2,3))))\n",
    "    r3 = np.column_stack((B, np.zeros((3,2)), C))\n",
    "    \n",
    "    block = np.vstack((r1, r2, r3))\n",
    "                      \n",
    "    return block\n",
    "f()"
   ]
  },
  {
   "cell_type": "markdown",
   "metadata": {},
   "source": [
    "## Problem 6 (Right Stochastic Matrix)"
   ]
  },
  {
   "cell_type": "code",
   "execution_count": 7,
   "metadata": {},
   "outputs": [
    {
     "data": {
      "text/plain": [
       "array([[0.1, 0.9],\n",
       "       [0.5, 0.5]])"
      ]
     },
     "execution_count": 7,
     "metadata": {},
     "output_type": "execute_result"
    }
   ],
   "source": [
    "def f(A):\n",
    "    \n",
    "    i, j = np.shape(A)\n",
    "    sumrow = np.sum(A, axis=1).reshape((j,1))\n",
    "    rstoc = A / sumrow # Think of it as a markov matrix\n",
    "    \n",
    "    return rstoc\n",
    "\n",
    "A = np.array([[1,9], [1, 1]])\n",
    "f(A)\n"
   ]
  },
  {
   "cell_type": "markdown",
   "metadata": {},
   "source": [
    "## Problem 7 (Project Euler and array slicing)"
   ]
  },
  {
   "cell_type": "code",
   "execution_count": 8,
   "metadata": {},
   "outputs": [
    {
     "data": {
      "text/plain": [
       "70600674"
      ]
     },
     "execution_count": 8,
     "metadata": {},
     "output_type": "execute_result"
    }
   ],
   "source": [
    "def f():\n",
    "    grid = np.load(\"grid.npy\")\n",
    "    \n",
    "    vMax = np.max(grid[:-3,:] * grid[1:-2,:] * grid[2:-1,:] * grid[3:,:])\n",
    "    hMax = np.max(grid[:,:-3] * grid[:,1:-2] * grid[:,2:-1] * grid[:,3:])\n",
    "    rdMax = np.max(grid[:-3,:-3] * grid[1:-2,1:-2] * grid[2:-1,2:-1] * grid[3:,3:])\n",
    "    ldMax = np.max(grid[3:,:-3] * grid[2:-1,1:-2] * grid[1:-2,2:-1] * grid[:-3,3:])\n",
    "    \n",
    "    return max(vMax, hMax, rdMax, ldMax)\n",
    "   \n",
    "f()"
   ]
  },
  {
   "cell_type": "markdown",
   "metadata": {},
   "source": [
    "## Thanks"
   ]
  },
  {
   "cell_type": "markdown",
   "metadata": {},
   "source": [
    "References:\n",
    "    \n",
    "    1. https://docs.scipy.org/doc/numpy/reference/generated/numpy.column_stack.html"
   ]
  },
  {
   "cell_type": "code",
   "execution_count": null,
   "metadata": {},
   "outputs": [],
   "source": []
  }
 ],
 "metadata": {
  "kernelspec": {
   "display_name": "Python 3",
   "language": "python",
   "name": "python3"
  },
  "language_info": {
   "codemirror_mode": {
    "name": "ipython",
    "version": 3
   },
   "file_extension": ".py",
   "mimetype": "text/x-python",
   "name": "python",
   "nbconvert_exporter": "python",
   "pygments_lexer": "ipython3",
   "version": "3.7.3"
  }
 },
 "nbformat": 4,
 "nbformat_minor": 2
}
