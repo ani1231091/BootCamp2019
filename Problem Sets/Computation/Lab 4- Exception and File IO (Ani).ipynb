{
 "cells": [
  {
   "cell_type": "markdown",
   "metadata": {},
   "source": [
    "## Code collapser employed. Running this cell will hide all input cells. To show them back, you can use the menu to clear all outputs.\n",
    "\n"
   ]
  },
  {
   "cell_type": "code",
   "execution_count": null,
   "metadata": {},
   "outputs": [],
   "source": [
    "%%html\n",
    "<style>\n",
    "div.input {\n",
    "    display:none;\n",
    "}\n",
    "</style>"
   ]
  },
  {
   "cell_type": "code",
   "execution_count": 5,
   "metadata": {},
   "outputs": [],
   "source": [
    "import numpy as np\n",
    "import scipy as sp\n",
    "import matplotlib.pyplot as plt"
   ]
  },
  {
   "cell_type": "code",
   "execution_count": 6,
   "metadata": {},
   "outputs": [
    {
     "name": "stdout",
     "output_type": "stream",
     "text": [
      "Enter a 3-digit number where the first and last digits differ by 2 or more  :\n",
      "You did not enter an integer\n"
     ]
    },
    {
     "ename": "ValueError",
     "evalue": "You did not enter a 3-digit integer.",
     "output_type": "error",
     "traceback": [
      "\u001b[1;31m---------------------------------------------------------------------------\u001b[0m",
      "\u001b[1;31mValueError\u001b[0m                                Traceback (most recent call last)",
      "\u001b[1;32m<ipython-input-6-e57f89e65639>\u001b[0m in \u001b[0;36m<module>\u001b[1;34m\u001b[0m\n\u001b[0;32m     39\u001b[0m     \u001b[0mprint\u001b[0m\u001b[1;33m(\u001b[0m\u001b[0mstr\u001b[0m\u001b[1;33m(\u001b[0m\u001b[0mstep_3\u001b[0m\u001b[1;33m)\u001b[0m\u001b[1;33m,\u001b[0m \u001b[1;34m\"+\"\u001b[0m\u001b[1;33m,\u001b[0m \u001b[0mstr\u001b[0m\u001b[1;33m(\u001b[0m\u001b[0mstep_4\u001b[0m\u001b[1;33m)\u001b[0m\u001b[1;33m,\u001b[0m \u001b[1;34m\"= 1089 (ta-da!)\"\u001b[0m\u001b[1;33m)\u001b[0m\u001b[1;33m\u001b[0m\u001b[1;33m\u001b[0m\u001b[0m\n\u001b[0;32m     40\u001b[0m \u001b[1;33m\u001b[0m\u001b[0m\n\u001b[1;32m---> 41\u001b[1;33m \u001b[0marithmagic\u001b[0m\u001b[1;33m(\u001b[0m\u001b[1;33m)\u001b[0m\u001b[1;33m\u001b[0m\u001b[1;33m\u001b[0m\u001b[0m\n\u001b[0m\u001b[0;32m     42\u001b[0m \u001b[1;33m\u001b[0m\u001b[0m\n",
      "\u001b[1;32m<ipython-input-6-e57f89e65639>\u001b[0m in \u001b[0;36marithmagic\u001b[1;34m()\u001b[0m\n\u001b[0;32m      8\u001b[0m \u001b[1;33m\u001b[0m\u001b[0m\n\u001b[0;32m      9\u001b[0m     \u001b[1;32mif\u001b[0m \u001b[0mlen\u001b[0m\u001b[1;33m(\u001b[0m\u001b[0mstep_1\u001b[0m\u001b[1;33m)\u001b[0m \u001b[1;33m!=\u001b[0m \u001b[1;36m3\u001b[0m\u001b[1;33m:\u001b[0m\u001b[1;33m\u001b[0m\u001b[1;33m\u001b[0m\u001b[0m\n\u001b[1;32m---> 10\u001b[1;33m         \u001b[1;32mraise\u001b[0m \u001b[0mValueError\u001b[0m\u001b[1;33m(\u001b[0m\u001b[1;34m\"You did not enter a 3-digit integer.\"\u001b[0m\u001b[1;33m)\u001b[0m\u001b[1;33m\u001b[0m\u001b[1;33m\u001b[0m\u001b[0m\n\u001b[0m\u001b[0;32m     11\u001b[0m \u001b[1;33m\u001b[0m\u001b[0m\n\u001b[0;32m     12\u001b[0m     \u001b[1;32mif\u001b[0m \u001b[0mabs\u001b[0m\u001b[1;33m(\u001b[0m\u001b[0mint\u001b[0m\u001b[1;33m(\u001b[0m\u001b[0mstep_1\u001b[0m\u001b[1;33m[\u001b[0m\u001b[1;36m0\u001b[0m\u001b[1;33m]\u001b[0m\u001b[1;33m)\u001b[0m \u001b[1;33m-\u001b[0m \u001b[0mint\u001b[0m\u001b[1;33m(\u001b[0m\u001b[0mstep_1\u001b[0m\u001b[1;33m[\u001b[0m\u001b[1;36m2\u001b[0m\u001b[1;33m]\u001b[0m\u001b[1;33m)\u001b[0m\u001b[1;33m)\u001b[0m \u001b[1;33m<\u001b[0m \u001b[1;36m2\u001b[0m\u001b[1;33m:\u001b[0m\u001b[1;33m\u001b[0m\u001b[1;33m\u001b[0m\u001b[0m\n",
      "\u001b[1;31mValueError\u001b[0m: You did not enter a 3-digit integer."
     ]
    }
   ],
   "source": [
    "def arithmagic():\n",
    "    step_1 = input(\"Enter a 3-digit number where the first and last \"\n",
    "                                       \"digits differ by 2 or more  :\")\n",
    "    try:\n",
    "        value = int(step_1)\n",
    "    except ValueError:\n",
    "        print(\"You did not enter an integer\")\n",
    "        \n",
    "    if len(step_1) != 3:\n",
    "        raise ValueError(\"You did not enter a 3-digit integer.\")\n",
    "    \n",
    "    if abs(int(step_1[0]) - int(step_1[2])) < 2:\n",
    "        raise ValueError(\"The first number's first and last digits differ by less than 2\") \n",
    "          \n",
    "    step_2 = input(\"Enter the reverse of the first number, obtained \"\n",
    "                                          \"by reading it backwards: \")\n",
    "    \n",
    "    reverseString = step_1[::-1]\n",
    "    if step_2 != reverseString:\n",
    "        raise ValueError(\"You did not reverse the first number.\")\n",
    "        \n",
    "    step_3 = input(\"Enter the positive difference of these numbers: \")\n",
    "    \n",
    "    try:\n",
    "        value = int(step_3)\n",
    "    except ValueError:\n",
    "        print(\"You did not enter an integer.\")\n",
    "        \n",
    "    posDiff = abs(int(step_1) - int(reverseString))\n",
    "    if int(step_3) != posDiff:\n",
    "        raise ValueError(\"You did a caalculation mistake\")\n",
    "        \n",
    "    step_4 = input(\"Enter the reverse of the previous result: \")\n",
    "    \n",
    "    reverseString2 = step_3[::-1]\n",
    "    if step_4 != reverseString2:\n",
    "        raise ValueError(\"You did not reverse the third number.\")\n",
    "\n",
    "    print(str(step_3), \"+\", str(step_4), \"= 1089 (ta-da!)\")\n",
    "    \n",
    "arithmagic()\n",
    "    "
   ]
  },
  {
   "cell_type": "markdown",
   "metadata": {},
   "source": [
    " ## Problem 2 (Random Walk)"
   ]
  },
  {
   "cell_type": "code",
   "execution_count": 7,
   "metadata": {},
   "outputs": [
    {
     "name": "stdout",
     "output_type": "stream",
     "text": [
      "Process interrupted at iteration 2637635\n",
      "Value of the walk was:  615\n"
     ]
    },
    {
     "data": {
      "text/plain": [
       "615"
      ]
     },
     "execution_count": 7,
     "metadata": {},
     "output_type": "execute_result"
    }
   ],
   "source": [
    "from random import choice\n",
    "\n",
    "def random_walk(maxi=1e12):\n",
    "    walk = 0\n",
    "    directions = [1, -1]\n",
    "    \n",
    "    try:\n",
    "        for a, i in enumerate(range(int(maxi))):\n",
    "            walk += choice(directions)\n",
    "    except KeyboardInterrupt:\n",
    "        print(\"Process interrupted at iteration\", a)\n",
    "    else:\n",
    "        print(\"Process completed.\")\n",
    "    finally:   \n",
    "        print(\"Value of the walk was: \", walk)\n",
    "        return walk\n",
    "\n",
    "random_walk()"
   ]
  },
  {
   "cell_type": "markdown",
   "metadata": {},
   "source": [
    "# Problem 3 and 4"
   ]
  },
  {
   "cell_type": "code",
   "execution_count": 8,
   "metadata": {},
   "outputs": [],
   "source": [
    "class ContentFilter():\n",
    "    \n",
    "    \n",
    "    def __init__(self, filename):\n",
    "        \n",
    "        rightFile = False\n",
    "        self.filename = filename\n",
    "        \n",
    "        while not rightFile:\n",
    "            try:\n",
    "                searchFile = open(self.filename, 'r')\n",
    "            except FileNotFoundError as e:\n",
    "                self.filename = input(\"Please enter a valid file name: \")\n",
    "                continue\n",
    "            except TypeError as e:\n",
    "                self.filename = input(\"Please enter a valid file name: \")\n",
    "                continue\n",
    "            except OSError as e:\n",
    "                self.filename = input(\"Please enter a valid file name: \")\n",
    "                continue\n",
    "            else:\n",
    "                rightFile = True\n",
    "                  \n",
    "        self.filename = filename\n",
    "        self.lines = searchFile.readlines()\n",
    "        \n",
    "        content = \"\"\n",
    "        for line in self.lines:\n",
    "            content += line\n",
    "            \n",
    "        self.contents = content\n",
    "            \n",
    "        self.totalLines = sum(1 for line in open(filename))\n",
    "        searchFile.close()\n",
    "        \n",
    "        \n",
    "        self.totalChar = len(self.contents)\n",
    "        self.totalAlph = sum(char.isalpha() for char in self.contents)\n",
    "        self.totalNum = sum(char.isdigit() for char in self.contents)\n",
    "        self.totalSpaces = sum(char.isspace() for char in self.contents)\n",
    "        \n",
    "    def uniform(self, outfile, mode='w', case='upper'):\n",
    "        \n",
    "        if mode not in ['w', 'x', 'a']:\n",
    "            raise ValueError(\"Mode must be either w, x, or a.\")\n",
    "        if case not in ['upper', 'lower']:\n",
    "            raise ValueError(\"Case must be either upper or lower.\")\n",
    "        try:\n",
    "            searchFileOut = open(outfile, mode)\n",
    "\n",
    "            if case == \"upper\":\n",
    "                for line in self.contents:\n",
    "                    searchFileOut.write(line.upper())\n",
    "            elif case == \"lower\":\n",
    "                for line in self.contents:\n",
    "                    searchFileOut.write(line.lower())\n",
    "        finally:\n",
    "            searchFileOut.close()\n",
    "            \n",
    "    def reverse(self, outfile, mode='w', unit='line'):\n",
    "      \n",
    "        if mode not in ['w', 'x', 'a']:\n",
    "            raise ValueError(\"mode must be either w, x, or a.\")\n",
    "        \n",
    "        if unit not in [\"line\", \"word\"]:\n",
    "            raise ValueError(\"unit must be either line or word\")\n",
    "            \n",
    "        try:\n",
    "            searchFileOut = open(outfile, mode)\n",
    "\n",
    "            if unit == \"line\":\n",
    "                for i in range(len(self.lines)):\n",
    "                    searchFileOut.write(self.lines[-(i+1)])\n",
    "            elif unit == \"word\":\n",
    "                for line in self.lines: \n",
    "                    words = line.split()\n",
    "                    line_rev = \" \".join(reversed(words)) + '\\n'\n",
    "                    searchFileOut.write(line_rev)\n",
    "        finally:\n",
    "            searchFileOut.close()       \n",
    "        \n",
    "    def transpose(self, outfile, mode='w'):\n",
    "        \n",
    "        if mode not in ['w', 'x', 'a']:\n",
    "            raise ValueError(\"mode must be either w, x, or a.\")\n",
    "            \n",
    "        try:\n",
    "            searchFileOut = open(outfile, mode)\n",
    "            wordMat = []\n",
    "            \n",
    "            for line in self.lines:\n",
    "                words = line.split()\n",
    "                wordMat.append(words)\n",
    "            \n",
    "            wordMat2 = np.array(wordMat)\n",
    "            wordMatT = wordMat2.T\n",
    "            \n",
    "            for row in wordMatT:\n",
    "                nextline = \" \".join(row)\n",
    "                searchFileOut.write(nextline + \"\\n\")\n",
    "            \n",
    "        finally:\n",
    "            searchFileOut.close()\n",
    "        \n",
    "    def __str__(self):\n",
    "       \n",
    "        string = (\"Source file:\\t\\t\\t\" + self.filename +\n",
    "                 \"\\nTotal characters:\\t\\t\" + str(self.totalChar) +\n",
    "                 \"\\nAlphabetic characters:\\t\\t\" + str(self.totalAlph) +\n",
    "                 \"\\nNumerical characters:\\t\\t\" + str(self.totalNum) +\n",
    "                 \"\\nWhitespace characters:\\t\\t\" + str(self.totalSpaces) +\n",
    "                 \"\\nNumber of lines:\\t\\t\" + str(self.totalLines))\n",
    "        \n",
    "        return string"
   ]
  },
  {
   "cell_type": "code",
   "execution_count": 9,
   "metadata": {},
   "outputs": [],
   "source": [
    "cf1 = ContentFilter(\"OSE.txt\")\n",
    "cf1.uniform(\"uniform.txt\", case=\"lower\")\n",
    "cf1.reverse(\"reverse.txt\", unit=\"word\")\n",
    "cf1.transpose(\"transpose.txt\")"
   ]
  },
  {
   "cell_type": "code",
   "execution_count": 10,
   "metadata": {},
   "outputs": [
    {
     "data": {
      "text/plain": [
       "<bound method ContentFilter.uniform of <__main__.ContentFilter object at 0x000002B7728AF978>>"
      ]
     },
     "execution_count": 10,
     "metadata": {},
     "output_type": "execute_result"
    }
   ],
   "source": [
    "cf1.uniform"
   ]
  },
  {
   "cell_type": "code",
   "execution_count": null,
   "metadata": {},
   "outputs": [],
   "source": []
  }
 ],
 "metadata": {
  "kernelspec": {
   "display_name": "Python 3",
   "language": "python",
   "name": "python3"
  },
  "language_info": {
   "codemirror_mode": {
    "name": "ipython",
    "version": 3
   },
   "file_extension": ".py",
   "mimetype": "text/x-python",
   "name": "python",
   "nbconvert_exporter": "python",
   "pygments_lexer": "ipython3",
   "version": "3.7.3"
  }
 },
 "nbformat": 4,
 "nbformat_minor": 2
}
