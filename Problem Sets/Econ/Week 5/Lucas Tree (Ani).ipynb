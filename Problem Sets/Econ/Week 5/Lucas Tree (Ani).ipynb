{
 "cells": [
  {
   "cell_type": "markdown",
   "metadata": {},
   "source": [
    "# Lucas Tree\n",
    "Lucas (1978) considers an economy populated by infinitely many identical individual consumers, in which the only assets are some identical infinitely-lived trees."
   ]
  },
  {
   "cell_type": "markdown",
   "metadata": {},
   "source": [
    "## Question 1"
   ]
  },
  {
   "cell_type": "code",
   "execution_count": 6,
   "metadata": {},
   "outputs": [
    {
     "name": "stdout",
     "output_type": "stream",
     "text": [
      "Collecting pandas_datareader\n",
      "  Downloading https://files.pythonhosted.org/packages/d1/db/c6c72242179251ed9ead7af852296ae9558b1d0cfd972eef6c3398b131d1/pandas_datareader-0.7.4-py2.py3-none-any.whl (113kB)\n",
      "Requirement already satisfied: wrapt in c:\\programdata\\anaconda3\\lib\\site-packages (from pandas_datareader) (1.11.1)\n",
      "Requirement already satisfied: requests>=2.3.0 in c:\\programdata\\anaconda3\\lib\\site-packages (from pandas_datareader) (2.21.0)\n",
      "Requirement already satisfied: pandas>=0.19.2 in c:\\programdata\\anaconda3\\lib\\site-packages (from pandas_datareader) (0.24.2)\n",
      "Requirement already satisfied: lxml in c:\\programdata\\anaconda3\\lib\\site-packages (from pandas_datareader) (4.3.2)\n",
      "Requirement already satisfied: idna<2.9,>=2.5 in c:\\programdata\\anaconda3\\lib\\site-packages (from requests>=2.3.0->pandas_datareader) (2.8)\n",
      "Requirement already satisfied: urllib3<1.25,>=1.21.1 in c:\\programdata\\anaconda3\\lib\\site-packages (from requests>=2.3.0->pandas_datareader) (1.24.1)\n",
      "Requirement already satisfied: chardet<3.1.0,>=3.0.2 in c:\\programdata\\anaconda3\\lib\\site-packages (from requests>=2.3.0->pandas_datareader) (3.0.4)\n",
      "Requirement already satisfied: certifi>=2017.4.17 in c:\\programdata\\anaconda3\\lib\\site-packages (from requests>=2.3.0->pandas_datareader) (2019.3.9)\n",
      "Requirement already satisfied: python-dateutil>=2.5.0 in c:\\users\\akg\\appdata\\roaming\\python\\python37\\site-packages (from pandas>=0.19.2->pandas_datareader) (2.8.0)\n",
      "Requirement already satisfied: numpy>=1.12.0 in c:\\programdata\\anaconda3\\lib\\site-packages (from pandas>=0.19.2->pandas_datareader) (1.16.2)\n",
      "Requirement already satisfied: pytz>=2011k in c:\\users\\akg\\appdata\\roaming\\python\\python37\\site-packages (from pandas>=0.19.2->pandas_datareader) (2019.1)\n",
      "Requirement already satisfied: six>=1.5 in c:\\programdata\\anaconda3\\lib\\site-packages (from python-dateutil>=2.5.0->pandas>=0.19.2->pandas_datareader) (1.12.0)\n",
      "Installing collected packages: pandas-datareader\n",
      "Successfully installed pandas-datareader-0.7.4\n"
     ]
    }
   ],
   "source": [
    "!pip install pandas_datareader"
   ]
  },
  {
   "cell_type": "code",
   "execution_count": 1,
   "metadata": {},
   "outputs": [],
   "source": [
    "#Standard Python Imports\n",
    "import pickle\n",
    "import datetime\n",
    "import numpy as np\n",
    "import pandas as pd\n",
    "import matplotlib.pyplot as plt\n",
    "import scipy.optimize as opt\n",
    "import scipy.stats as sts\n",
    "import pandas_datareader.data as web"
   ]
  },
  {
   "cell_type": "code",
   "execution_count": 2,
   "metadata": {},
   "outputs": [
    {
     "data": {
      "text/html": [
       "<div>\n",
       "<style scoped>\n",
       "    .dataframe tbody tr th:only-of-type {\n",
       "        vertical-align: middle;\n",
       "    }\n",
       "\n",
       "    .dataframe tbody tr th {\n",
       "        vertical-align: top;\n",
       "    }\n",
       "\n",
       "    .dataframe thead th {\n",
       "        text-align: right;\n",
       "    }\n",
       "</style>\n",
       "<table border=\"1\" class=\"dataframe\">\n",
       "  <thead>\n",
       "    <tr style=\"text-align: right;\">\n",
       "      <th></th>\n",
       "      <th>consumption</th>\n",
       "      <th>market</th>\n",
       "      <th>deflator</th>\n",
       "      <th>t_bill</th>\n",
       "      <th>rMarket</th>\n",
       "      <th>rTbill</th>\n",
       "    </tr>\n",
       "    <tr>\n",
       "      <th>DATE</th>\n",
       "      <th></th>\n",
       "      <th></th>\n",
       "      <th></th>\n",
       "      <th></th>\n",
       "      <th></th>\n",
       "      <th></th>\n",
       "    </tr>\n",
       "  </thead>\n",
       "  <tbody>\n",
       "    <tr>\n",
       "      <th>1972Q1</th>\n",
       "      <td>23.458</td>\n",
       "      <td>3307.767</td>\n",
       "      <td>3.436667</td>\n",
       "      <td>1.240000</td>\n",
       "      <td>9.624928</td>\n",
       "      <td>0.003608</td>\n",
       "    </tr>\n",
       "    <tr>\n",
       "      <th>1972Q2</th>\n",
       "      <td>23.604</td>\n",
       "      <td>3370.736</td>\n",
       "      <td>3.770000</td>\n",
       "      <td>1.280000</td>\n",
       "      <td>8.940944</td>\n",
       "      <td>0.003395</td>\n",
       "    </tr>\n",
       "    <tr>\n",
       "      <th>1972Q3</th>\n",
       "      <td>23.830</td>\n",
       "      <td>3422.682</td>\n",
       "      <td>4.220000</td>\n",
       "      <td>1.293333</td>\n",
       "      <td>8.110621</td>\n",
       "      <td>0.003065</td>\n",
       "    </tr>\n",
       "    <tr>\n",
       "      <th>1972Q4</th>\n",
       "      <td>24.134</td>\n",
       "      <td>3503.001</td>\n",
       "      <td>4.863333</td>\n",
       "      <td>1.356667</td>\n",
       "      <td>7.202881</td>\n",
       "      <td>0.002790</td>\n",
       "    </tr>\n",
       "    <tr>\n",
       "      <th>1973Q1</th>\n",
       "      <td>24.412</td>\n",
       "      <td>3566.957</td>\n",
       "      <td>5.700000</td>\n",
       "      <td>1.306667</td>\n",
       "      <td>6.257819</td>\n",
       "      <td>0.002292</td>\n",
       "    </tr>\n",
       "  </tbody>\n",
       "</table>\n",
       "</div>"
      ],
      "text/plain": [
       "        consumption    market  deflator    t_bill   rMarket    rTbill\n",
       "DATE                                                                 \n",
       "1972Q1       23.458  3307.767  3.436667  1.240000  9.624928  0.003608\n",
       "1972Q2       23.604  3370.736  3.770000  1.280000  8.940944  0.003395\n",
       "1972Q3       23.830  3422.682  4.220000  1.293333  8.110621  0.003065\n",
       "1972Q4       24.134  3503.001  4.863333  1.356667  7.202881  0.002790\n",
       "1973Q1       24.412  3566.957  5.700000  1.306667  6.257819  0.002292"
      ]
     },
     "execution_count": 2,
     "metadata": {},
     "output_type": "execute_result"
    }
   ],
   "source": [
    "start = datetime.datetime(1972, 1, 1)\n",
    "end = datetime.datetime(2010, 12, 31)\n",
    "\n",
    "consumption = web.DataReader('PCECC96', 'fred', start, end) \n",
    "market = web.DataReader('WILL5000INDFC', 'fred', start, end) \n",
    "t_bill = web.DataReader('TB3MS', 'fred', start, end)         \n",
    "deflator = web.DataReader('GDPDEF', 'fred', start, end)      \n",
    "\n",
    "\n",
    "df = pd.concat([consumption, market, deflator, t_bill], sort=True)\n",
    "df = df.groupby(pd.PeriodIndex(df.index, freq='Q'), axis=0).mean() # convert to quarterly\n",
    "\n",
    "df.columns = ['consumption', 'market', 'deflator', 't_bill']\n",
    "df['rMarket'] = df.market / (df.deflator*100)\n",
    "df['rTbill'] = df.t_bill / (df.deflator*100)\n",
    "\n",
    "df.head() # head() method is used to return top n (5 by default) rows of a data frame or series."
   ]
  },
  {
   "cell_type": "markdown",
   "metadata": {},
   "source": [
    "Assume that 𝛽 = 0.99 (since this is quarterly data, this implies an annual risk- free rate of about 4%). Calculate empirical analogs of the expected values and covariance in (5). Using scipy.optimize.broyden1, solve for the value of 𝛾 that leads to equation (5) holding.\n"
   ]
  },
  {
   "cell_type": "code",
   "execution_count": 3,
   "metadata": {},
   "outputs": [],
   "source": [
    "class GMM_Lucas( object ):   \n",
    "    def __init__(self, data=df, options='q3'):\n",
    "        \n",
    "        self.data = data\n",
    "        self.options = options\n",
    "                \n",
    "        R = self.data.rMarket / self.data.rMarket.shift(1)\n",
    "        self.R = R.dropna()\n",
    "        \n",
    "    def estimate_m(self, gamma, beta):\n",
    "        ratio = self.data.consumption / self.data.consumption.shift(1)\n",
    "        \n",
    "        MUC = ratio ** -gamma     \n",
    "        m = beta * MUC\n",
    "        return m[1:]\n",
    " \n",
    "    def objective(self, params):\n",
    "        if params.size == 1:\n",
    "            gamma = params\n",
    "            beta = 0.99\n",
    "            \n",
    "        if self.options == 'q1':\n",
    "            m = self.estimate_m(gamma, beta)\n",
    "            cov = np.cov(m, self.R)[0,1]              # var/cov matrix, take COV\n",
    "            error = cov + m.mean() * self.R.mean() - 1\n",
    "            return error\n",
    "        \n",
    "        elif self.options == 'q3':        \n",
    "            m = self.estimate_m(gamma, beta)\n",
    "            exp = self.R * m\n",
    "            error = exp.mean() - 1\n",
    "            return error\n",
    "        \n",
    "        elif self.options == 'q4':\n",
    "            beta, gamma = params\n",
    "            m = self.estimate_m(gamma, beta)\n",
    "            cov = np.cov(m, self.R)[0,1]\n",
    "            err1 = cov + m.mean() * self.R.mean() - 1\n",
    "\n",
    "            exp = self.R * m\n",
    "            err2 = exp.mean() - 1\n",
    "            \n",
    "            e = np.array([err1, err2])\n",
    "            return e.T @ np.eye(2) @ e\n",
    "\n",
    "                   \n",
    "    def estimate_gamma(self):\n",
    "        if self.options == 'q4':\n",
    "            xguess = np.ones(2)\n",
    "            result = opt.minimize(self.objective, xguess)\n",
    "        else:\n",
    "            xguess = np.ones(1)\n",
    "            ### Non=linear solver gets very different answer to Natasha, come back\n",
    "            result = opt.broyden1(self.objective, xguess)\n",
    "        return result\n",
    "    \n",
    "    def plot(self):\n",
    "        n = 60\n",
    "        N = 5\n",
    "        γ_grid = np.linspace(0, 5, n)\n",
    "        β_grid = np.linspace(0.95, 0.99, N)\n",
    "\n",
    "        cons = self.data.rMarket\n",
    "        tbill = self.data.rTbill\n",
    "\n",
    "        gmm_values = np.empty((n, N))\n",
    "        for i in range(n):\n",
    "            for j in range(N):\n",
    "                param = np.array( [ γ_grid[i], β_grid[j] ])\n",
    "                gmm_values[i, j] = self.objective(param)\n",
    "                \n",
    "        plt.figure(figsize=(10, 8))\n",
    "        for j in range(N):\n",
    "            plt.plot(γ_grid, gmm_values[:, j], label=f'{β_grid[j]:.2f}')\n",
    "        plt.title('Value of GMM objective function')\n",
    "        plt.xlabel('$\\gamma$')\n",
    "        plt.legend()\n",
    "        plt.show()"
   ]
  },
  {
   "cell_type": "code",
   "execution_count": 4,
   "metadata": {},
   "outputs": [
    {
     "name": "stdout",
     "output_type": "stream",
     "text": [
      "Gamma =  [5.45166773]\n"
     ]
    }
   ],
   "source": [
    "Question1 = GMM_Lucas(data=df, options='q1')\n",
    "print(\"Gamma = \",Question1.estimate_gamma())"
   ]
  },
  {
   "cell_type": "markdown",
   "metadata": {},
   "source": [
    "## Question 2"
   ]
  },
  {
   "cell_type": "markdown",
   "metadata": {},
   "source": [
    "Gamma $\\gamma$ could be elicited from different data sets and then one can reach at a conclusion of what a reasonable value of this parameter could be. [Cochrane] (https://faculty.chicagobooth.edu/john.cochrane/research/papers/samplechapters.pdf)  uses a $\\gamma=241$ to illustrate his results."
   ]
  },
  {
   "cell_type": "markdown",
   "metadata": {},
   "source": [
    "## Question 3"
   ]
  },
  {
   "cell_type": "code",
   "execution_count": 15,
   "metadata": {},
   "outputs": [
    {
     "name": "stdout",
     "output_type": "stream",
     "text": [
      "Gamma =  [5.45020617]\n"
     ]
    }
   ],
   "source": [
    "Question3 = GMM_Lucas(data=df, options='q3')\n",
    "print(\"Gamma = \",Question3.estimate_gamma())"
   ]
  },
  {
   "cell_type": "markdown",
   "metadata": {},
   "source": [
    "## Question 4"
   ]
  },
  {
   "cell_type": "code",
   "execution_count": 16,
   "metadata": {},
   "outputs": [
    {
     "name": "stdout",
     "output_type": "stream",
     "text": [
      "Beta  =  0.9525623703046379 \n",
      "Gamma =  1.000414934436633\n"
     ]
    },
    {
     "data": {
      "image/png": "[encoded data removed]",
      "text/plain": [
       "<Figure size 720x576 with 1 Axes>"
      ]
     },
     "metadata": {
      "needs_background": "light"
     },
     "output_type": "display_data"
    }
   ],
   "source": [
    "Question4 = GMM_Lucas(data=df, options='q4')\n",
    "ans = Question4.estimate_gamma().x\n",
    "print(\"Beta  = \", ans[0], \"\\nGamma = \", ans[1])\n",
    "Question4.plot()"
   ]
  }
 ],
 "metadata": {
  "kernelspec": {
   "display_name": "Python 3",
   "language": "python",
   "name": "python3"
  },
  "language_info": {
   "codemirror_mode": {
    "name": "ipython",
    "version": 3
   },
   "file_extension": ".py",
   "mimetype": "text/x-python",
   "name": "python",
   "nbconvert_exporter": "python",
   "pygments_lexer": "ipython3",
   "version": "3.7.3"
  }
 },
 "nbformat": 4,
 "nbformat_minor": 2
}
