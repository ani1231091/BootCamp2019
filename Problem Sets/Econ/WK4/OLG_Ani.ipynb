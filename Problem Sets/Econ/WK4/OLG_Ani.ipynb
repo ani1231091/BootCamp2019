{
 "cells": [
  {
   "cell_type": "markdown",
   "metadata": {},
   "source": [
    "## 3-period-lived Agents with Exogenous Labor Supply"
   ]
  },
  {
   "cell_type": "code",
   "execution_count": 3,
   "metadata": {},
   "outputs": [],
   "source": [
    "# The essentials\n",
    "import numpy as np\n",
    "import scipy as sp\n",
    "import sympy as sy\n",
    "import scipy.optimize as opt\n",
    "import matplotlib.pyplot as plt\n",
    "import pandas as pd\n",
    "import time\n",
    "import scipy.linalg as lin"
   ]
  },
  {
   "cell_type": "markdown",
   "metadata": {},
   "source": [
    "Use the following parameterization of the model for the problems below. Because agents live\n",
    "for only three periods, assume that each period of life is 20 years. If the annual discount\n",
    "factor is estimated to be 0.96, then the 20-year discount factor is $\\beta = 0.96^{20} = 0.442.$\n",
    "Let the annual depreciation rate of capital be 0.05. Then the 20-year depreciation rate is\n",
    "$\\delta = 1 − (1 − 0.05)20 = 0.6415.$ Let the coefficient of relative risk aversion be $\\sigma = 3$, let\n",
    "the productivity scale parameter of firms be A = 1, and let the capital share of income be\n",
    "$\\alpha = 0.35.$\n",
    "\n",
    "The parameter block is activated below."
   ]
  },
  {
   "cell_type": "markdown",
   "metadata": {},
   "source": [
    "### Parameters"
   ]
  },
  {
   "cell_type": "code",
   "execution_count": 4,
   "metadata": {},
   "outputs": [],
   "source": [
    "#Pass of parameters\n",
    "beta = .442; delta = .6415; sigma = 3; alpha = .35; A = 1\n",
    "nvec = np.array([1.0, 1.0, .2])\n",
    "L = 1\n",
    "SS_tol = .005"
   ]
  },
  {
   "cell_type": "code",
   "execution_count": 5,
   "metadata": {},
   "outputs": [],
   "source": [
    "f_params = nvec, A, alpha, delta #define f parama"
   ]
  },
  {
   "cell_type": "markdown",
   "metadata": {},
   "source": [
    "### Prices (wage)"
   ]
  },
  {
   "cell_type": "code",
   "execution_count": 6,
   "metadata": {},
   "outputs": [],
   "source": [
    "def get_w(K, w_args):\n",
    "    '''To get wages as a function of capital and parameters.'''\n",
    "    A, alpha = w_args\n",
    "    \n",
    "    w = (1 - alpha) * A * (((K) / (L)) ** alpha)\n",
    "    \n",
    "    return w"
   ]
  },
  {
   "cell_type": "markdown",
   "metadata": {},
   "source": [
    "### Prices (Rental Rate)"
   ]
  },
  {
   "cell_type": "code",
   "execution_count": null,
   "metadata": {},
   "outputs": [],
   "source": [
    "def get_r(K, r_args):\n",
    "    '''To get rental rate as a function of capital and parameters.'''\n",
    "    A, alpha, delta = r_args\n",
    "    \n",
    "    r = alpha * A * (((L) / (K)) ** (1 - alpha)) - delta\n",
    "    \n",
    "    return r"
   ]
  },
  {
   "cell_type": "markdown",
   "metadata": {},
   "source": [
    "### Exercise 2.1 (Verifying non-negativity constraints)"
   ]
  },
  {
   "cell_type": "code",
   "execution_count": 7,
   "metadata": {},
   "outputs": [],
   "source": [
    "def nngev(f_params, bvec_guess):\n",
    "    '''Implements the verification for non negativity\n",
    "    '''\n",
    "    b2, b3 = bvec_guess\n",
    "    nvec, A, alpha, delta = f_params\n",
    "    \n",
    "    K_cnstr, c_cnstr, b_cnstr = np.full(1, False), np.full(3, False), np.full(2, False)\n",
    "    \n",
    "    w_args = A, alpha\n",
    "    r_args = A, alpha, delta\n",
    "    w = get_w(b2 + b3, w_args)\n",
    "    r = get_r(b2 + b3, r_args)\n",
    "    \n",
    "    c_cnstr[0] = nvec[0] * w - b2 < 0 \n",
    "    c_cnstr[1] = nvec[1] * w + (1 + r) * b2 - b3 < 0\n",
    "    c_cnstr[2] = nvec[2] * w + (1 + r) * b3 < 0\n",
    "    \n",
    "    \n",
    "    K_cnstr[0] = b2 + b3 < 0\n",
    "    \n",
    "    if c_cnstr[0] == True:\n",
    "        b_cnstr[0] = True\n",
    "    if c_cnstr[1] == True:\n",
    "        b_cnstr[0], b_cnstr[1] = True, True\n",
    "    if c_cnstr[2] == True:\n",
    "        b_cnstr[1] = True\n",
    "        \n",
    "    return b_cnstr, c_cnstr, K_cnstr"
   ]
  },
  {
   "cell_type": "markdown",
   "metadata": {},
   "source": [
    "#### Exercise 2.1 (a)"
   ]
  },
  {
   "cell_type": "code",
   "execution_count": 9,
   "metadata": {},
   "outputs": [
    {
     "data": {
      "text/plain": [
       "(array([ True, False]), array([ True, False, False]), array([False]))"
      ]
     },
     "execution_count": 9,
     "metadata": {},
     "output_type": "execute_result"
    }
   ],
   "source": [
    "bvec_guess1 = np.array([1.0, 1.2])\n",
    "nngev(f_params, bvec_guess1)"
   ]
  },
  {
   "cell_type": "markdown",
   "metadata": {},
   "source": [
    "Excessive savings in period 1 leading to negative consumption. "
   ]
  },
  {
   "cell_type": "markdown",
   "metadata": {},
   "source": [
    "#### Exercise 2.1 (b)"
   ]
  },
  {
   "cell_type": "code",
   "execution_count": 11,
   "metadata": {},
   "outputs": [
    {
     "data": {
      "text/plain": [
       "(array([False, False]), array([False, False, False]), array([False]))"
      ]
     },
     "execution_count": 11,
     "metadata": {},
     "output_type": "execute_result"
    }
   ],
   "source": [
    "bvec_guess2 = np.array([0.06, -.001]) #Possibe variation\n",
    "nngev(f_params, bvec_guess2)"
   ]
  },
  {
   "cell_type": "markdown",
   "metadata": {},
   "source": [
    "No violation reported here."
   ]
  },
  {
   "cell_type": "markdown",
   "metadata": {},
   "source": [
    "#### Exercise 2.1 (c)"
   ]
  },
  {
   "cell_type": "code",
   "execution_count": 13,
   "metadata": {},
   "outputs": [
    {
     "data": {
      "text/plain": [
       "(array([False, False]), array([False, False, False]), array([False]))"
      ]
     },
     "execution_count": 13,
     "metadata": {},
     "output_type": "execute_result"
    }
   ],
   "source": [
    "bvec_guess3 = np.array([0.1, 0.1])\n",
    "nngev(f_params, bvec_guess3)"
   ]
  },
  {
   "cell_type": "markdown",
   "metadata": {},
   "source": [
    "No violation reported here."
   ]
  },
  {
   "cell_type": "markdown",
   "metadata": {},
   "source": [
    "### Steady State Eqm of the OLG model"
   ]
  },
  {
   "cell_type": "code",
   "execution_count": 14,
   "metadata": {},
   "outputs": [],
   "source": [
    "def Euler_error(bvec, *err_args):\n",
    "    '''To back out Euler errors\n",
    "    '''\n",
    "    beta, sigma, A, alpha, delta = err_args\n",
    "    b2, b3 = bvec\n",
    "    w_args = A, alpha\n",
    "    r_args = A, alpha, delta\n",
    "    w = get_w(b2 + b3, w_args) \n",
    "    r = get_r(b2 + b3, r_args) \n",
    "    c1 = w - b2\n",
    "    c2 = w + (1 + r) * b2 - b3\n",
    "    c3 = (1 + r) * b3 + 0.2 * w\n",
    "    MU1 = c1 ** (-sigma)\n",
    "    MU2 = c2 ** (-sigma)\n",
    "    MU3 = c3 ** (-sigma)\n",
    "    err1 = MU1 - beta * (1 + r) * MU2\n",
    "    err2 = MU2 - beta * (1 + r) * MU3\n",
    "    \n",
    "    return err1, err2"
   ]
  },
  {
   "cell_type": "code",
   "execution_count": 23,
   "metadata": {},
   "outputs": [],
   "source": [
    "def get_SS(params, bvec_guess, SS_graphs):\n",
    "    '''This function solves for the steady-state equilibrium.\n",
    "    '''\n",
    "    \n",
    "    start_time = time.clock()\n",
    "    b2, b3 = bvec_guess\n",
    "    beta, sigma, nvec, L, A, alpha, delta, SS_tol = params\n",
    "    err_args = beta, sigma, A, alpha, delta\n",
    "    w_args = A, alpha\n",
    "    r_args = A, alpha, delta\n",
    "    results_ss = opt.root(Euler_error, bvec_guess, tol=SS_tol, args=(err_args))\n",
    "    b_ss = results_ss.x\n",
    "    w_ss = get_w(sum(b_ss), w_args)\n",
    "    r_ss = get_r(sum(b_ss), r_args)\n",
    "    c_ss = np.array([w_ss - b_ss[0], \n",
    "                     w_ss + (1 + r_ss)*b_ss[0] - b_ss[1],\n",
    "                     (1 + r_ss)*b_ss[1] + .2 * w_ss])\n",
    "    K_ss = np.sum(b_ss)\n",
    "    Y_ss = A * (K_ss ** alpha) * (L ** (1 - alpha))\n",
    "    C_ss = Y_ss - K_ss + (1 - delta) * K_ss\n",
    "    \n",
    "    EulErr_ss = np.array([beta * (1 + r_ss) * (c_ss[1] ** -sigma) - (c_ss[0] ** -sigma),\n",
    "                          beta * (1 + r_ss) * (c_ss[2] ** -sigma) - (c_ss[1] ** -sigma)])\n",
    "    RCerr_ss = Y_ss - C_ss - delta * K_ss\n",
    "    \n",
    "    ss_time = time.clock()\n",
    "    ss_output = {\n",
    "        'b_ss': b_ss, 'c_ss': c_ss, 'w_ss': w_ss, 'r_ss': r_ss, \n",
    "        'K_ss': K_ss, 'Y_ss': Y_ss, 'C_ss': C_ss, \n",
    "        'EulErr_ss': EulErr_ss, 'RCerr_ss': RCerr_ss, \n",
    "        'ss_time': ss_time}\n",
    "    if SS_graphs == True:\n",
    "        fig, ax = plt.subplots(figsize=(6,6))\n",
    "        s = np.array([1, 2, 3])\n",
    "        plt.plot(s, c_ss, label=r'$\\bar{c}_s$', marker='*')\n",
    "        plt.plot(s[1:], b_ss, label=r'$\\bar{b}_s$', marker='*')\n",
    "        plt.title(\"Steady-State Consumption and Savings\")\n",
    "        plt.legend()\n",
    "        plt.grid()\n",
    "        plt.xlabel(\"Age (s)\")\n",
    "        plt.ylabel(\"Level\")\n",
    "        plt.xticks(s)\n",
    "        plt.show()\n",
    "        \n",
    "    return ss_output"
   ]
  },
  {
   "cell_type": "code",
   "execution_count": 24,
   "metadata": {},
   "outputs": [],
   "source": [
    "params = beta, sigma, nvec, L, A, alpha, delta, SS_tol"
   ]
  },
  {
   "cell_type": "code",
   "execution_count": 25,
   "metadata": {},
   "outputs": [
    {
     "name": "stderr",
     "output_type": "stream",
     "text": [
      "C:\\Users\\AKG\\AppData\\Roaming\\Python\\Python37\\site-packages\\ipykernel_launcher.py:5: DeprecationWarning: time.clock has been deprecated in Python 3.3 and will be removed from Python 3.8: use time.perf_counter or time.process_time instead\n",
      "  \"\"\"\n",
      "C:\\Users\\AKG\\AppData\\Roaming\\Python\\Python37\\site-packages\\ipykernel_launcher.py:26: DeprecationWarning: time.clock has been deprecated in Python 3.3 and will be removed from Python 3.8: use time.perf_counter or time.process_time instead\n"
     ]
    },
    {
     "data": {
      "image/png": "[encoded data removed]",
      "text/plain": [
       "<Figure size 432x432 with 1 Axes>"
      ]
     },
     "metadata": {
      "needs_background": "light"
     },
     "output_type": "display_data"
    },
    {
     "name": "stdout",
     "output_type": "stream",
     "text": [
      "{'b_ss': array([0.02846247, 0.10470894]), 'c_ss': array([0.29250218, 0.26339752, 0.2376202 ]), 'w_ss': 0.3209646551886283, 'r_ss': 0.6562794340316018, 'K_ss': 0.13317141379544897, 'Y_ss': 0.49379177721327433, 'C_ss': 0.4083623152634938, 'EulErr_ss': array([ 0.10209282, -0.15842775]), 'RCerr_ss': 0.0, 'ss_time': 4898.545000388}\n",
      "Wall time: 4.52 s\n"
     ]
    }
   ],
   "source": [
    "%%time\n",
    "results_ss = get_SS(params, np.array([.1, .1]), True)\n",
    "print(results_ss)"
   ]
  },
  {
   "cell_type": "markdown",
   "metadata": {},
   "source": [
    "As shown above, computing the steady-state was almost instant."
   ]
  },
  {
   "cell_type": "code",
   "execution_count": 26,
   "metadata": {},
   "outputs": [
    {
     "name": "stderr",
     "output_type": "stream",
     "text": [
      "C:\\Users\\AKG\\AppData\\Roaming\\Python\\Python37\\site-packages\\ipykernel_launcher.py:5: DeprecationWarning: time.clock has been deprecated in Python 3.3 and will be removed from Python 3.8: use time.perf_counter or time.process_time instead\n",
      "  \"\"\"\n",
      "C:\\Users\\AKG\\AppData\\Roaming\\Python\\Python37\\site-packages\\ipykernel_launcher.py:26: DeprecationWarning: time.clock has been deprecated in Python 3.3 and will be removed from Python 3.8: use time.perf_counter or time.process_time instead\n"
     ]
    },
    {
     "data": {
      "image/png": "[encoded data removed]",
      "text/plain": [
       "<Figure size 432x432 with 1 Axes>"
      ]
     },
     "metadata": {
      "needs_background": "light"
     },
     "output_type": "display_data"
    },
    {
     "data": {
      "text/plain": [
       "{'b_ss': array([0.0459699, 0.135901 ]),\n",
       " 'c_ss': array([0.31198679, 0.28725459, 0.26433907]),\n",
       " 'w_ss': 0.35795669200985963,\n",
       " 'r_ss': 0.41829519714475105,\n",
       " 'K_ss': 0.18187090449316887,\n",
       " 'Y_ss': 0.5507026030920917,\n",
       " 'C_ss': 0.4340324178597239,\n",
       " 'EulErr_ss': array([-0.01993416,  0.04336155]),\n",
       " 'RCerr_ss': 1.3877787807814457e-17,\n",
       " 'ss_time': 4902.718420751}"
      ]
     },
     "execution_count": 26,
     "metadata": {},
     "output_type": "execute_result"
    }
   ],
   "source": [
    "beta1 = .55\n",
    "params1 = beta1, sigma, nvec, L, A, alpha, delta, SS_tol\n",
    "results_ss = get_SS(params1, np.array([.1, .1]), True)\n",
    "results_ss"
   ]
  },
  {
   "cell_type": "markdown",
   "metadata": {},
   "source": [
    "Standard explanation goes here. When $\\beta$ increases, the steady-state levels of savings and consumption both increase (in all ages),  wage increases, and the interest rate decreases. An increase of $\\beta$ can be interpreted as the agents becoming more patient. Thus, the increase in savings follows from this intuition. Increased savings leads to an increase in production in future periods, and thus an increase in consumption. The increase in production leads to an increase in wage and a decrease in the interest rate."
   ]
  },
  {
   "cell_type": "markdown",
   "metadata": {},
   "source": [
    "### Exercise 2.3: Time Path Iteration (TPI)"
   ]
  },
  {
   "cell_type": "code",
   "execution_count": 27,
   "metadata": {},
   "outputs": [
    {
     "name": "stderr",
     "output_type": "stream",
     "text": [
      "C:\\Users\\AKG\\AppData\\Roaming\\Python\\Python37\\site-packages\\ipykernel_launcher.py:5: DeprecationWarning: time.clock has been deprecated in Python 3.3 and will be removed from Python 3.8: use time.perf_counter or time.process_time instead\n",
      "  \"\"\"\n",
      "C:\\Users\\AKG\\AppData\\Roaming\\Python\\Python37\\site-packages\\ipykernel_launcher.py:26: DeprecationWarning: time.clock has been deprecated in Python 3.3 and will be removed from Python 3.8: use time.perf_counter or time.process_time instead\n"
     ]
    }
   ],
   "source": [
    "# Set additional parameters needed for TPI\n",
    "T = 25\n",
    "path_tol = 1e-9\n",
    "xi = .8\n",
    "maxIter = 1000\n",
    "\n",
    "# Solve for SS savings\n",
    "results_ss = get_SS(params, np.array([.1, .1]), False)\n",
    "b2bar, b3bar = results_ss['b_ss']\n",
    "\n",
    "# Guess initial path of aggregate capital \n",
    "b21 = .8 * b2bar\n",
    "b31 = 1.1 * b3bar\n",
    "K1 = b21 + b31\n",
    "Kbar = b2bar + b3bar\n",
    "# Initial guess is a linear capital series\n",
    "Kpath = np.linspace(K1, Kbar, T)\n",
    "# Add an extra element to make time indices line up \n",
    "Kpath = np.append(Kpath, Kbar)\n",
    "\n",
    "# Get initial wage and interest rate paths\n",
    "w_args = A, alpha\n",
    "r_args = A, alpha, delta\n",
    "rpath = get_r(Kpath, r_args)\n",
    "wpath = get_w(Kpath, w_args)\n",
    "rbar = get_r(Kbar, r_args)\n",
    "wbar = get_w(Kbar, w_args)\n",
    "# Add an extra element to make time indices line up (add ss interest rate and wage)\n",
    "rpath = np.append(rpath, rbar)\n",
    "wpath = np.append(wpath, wbar)"
   ]
  },
  {
   "cell_type": "code",
   "execution_count": 28,
   "metadata": {},
   "outputs": [],
   "source": [
    "def eul_b32(b32, *err1_args):\n",
    "    \"\"\" Solve for b32 using only one intertemporal Euler Equation.\n",
    "    \n",
    "    Parameters:\n",
    "       b32: (float) a guess for the savings vector\n",
    "             that satisfies the intertemporal Euler equation\n",
    "       err1_args: a tuple with the model parameters  beta, sigma, rpath, wpath, nvec\n",
    "        \n",
    "    Returns:\n",
    "       err: (float) error in intertemporal Euler equation from using b32\n",
    "    \"\"\"\n",
    "    beta, sigma, rpath, wpath, nvec, b21 = err1_args\n",
    "    \n",
    "    # Calculate consumption in each period from budget constraints\n",
    "    c1 = wpath[0] * nvec[1] + (1 + rpath[0]) * b21 - b32\n",
    "    c2 = (1 + rpath[1]) * b32 + nvec[2] * wpath[1]\n",
    "    \n",
    "    # Calculate marginal utility of consumption\n",
    "    MU1 = c1 ** (-sigma)\n",
    "    MU2 = c2 ** (-sigma)\n",
    "    \n",
    "    # Calculate error from intertemporal Euler Equation\n",
    "    err = MU1 - beta * (1 + rpath[1]) * MU2\n",
    "    \n",
    "    return err\n",
    "    \n",
    "def eul_b2t_b3t1(bvec, *err2_args):\n",
    "    \"\"\"Solve for b_{2,t} and b_{3,t+1} for t=3,...,T+1 using two\n",
    "    intertemporal Euler Equations.\n",
    "    \n",
    "    Parameters:\n",
    "        bvec: a 2 element numpy array with a guess for the savings vector\n",
    "        that satisfies the intertemporal Euler equations\n",
    "        err2_args: a tuple with the model parameters beta, sigma, rpath, wpath, nvec\n",
    "        \n",
    "    Returns:\n",
    "        err1: (float) error in intertemporal Euler equation from using bvec\n",
    "        err2: (float) error in intertemporal Euler equation from using bvec\n",
    "    \n",
    "    \"\"\"\n",
    "    \n",
    "    # rpath has two elements: r_2 and r_3\n",
    "    # wpath has three elements: w_1, w_2, and w_3\n",
    "    beta, sigma, rpath, wpath, nvec = err2_args \n",
    "    \n",
    "    # Calculate consumption in each period from budget constraints\n",
    "    c1 = nvec[0] * wpath[0] - bvec[0]\n",
    "    c2 = nvec[1] * wpath[1] + (1 + rpath[0]) * bvec[0] - bvec[1]\n",
    "    c3 = (1 + rpath[1]) * bvec[1] + nvec[2] * wpath[2]\n",
    "    \n",
    "    # Calculate marginal utility of consumption\n",
    "    MU1 = c1 ** (-sigma)\n",
    "    MU2 = c2 ** (-sigma)\n",
    "    MU3 = c3 ** (-sigma)\n",
    "    \n",
    "    # Calculate error from intertemporal Euler Equations\n",
    "    err1 = MU1 - beta * (1 + rpath[0]) * MU2\n",
    "    err2 = MU2 - beta * (1 + rpath[1]) * MU3\n",
    "    \n",
    "    return err1, err2"
   ]
  },
  {
   "cell_type": "code",
   "execution_count": 29,
   "metadata": {},
   "outputs": [],
   "source": [
    "eps = path_tol + 1\n",
    "it = 1\n",
    "bvec_guess = np.array([.1, .1])\n",
    "\n",
    "# Solve for time-path equilibrium of aggregate capital\n",
    "while (it < maxIter and eps > path_tol):\n",
    "    bmat = np.zeros((T+1,2))\n",
    "    EulErrs = np.zeros((T+1, 2))\n",
    "    \n",
    "    bmat[0,0] = b21\n",
    "    bmat[0,1] = b31\n",
    "    \n",
    "    # Solve for b32\n",
    "    err1_args = beta, sigma, rpath[:2], wpath[:2], nvec, b21\n",
    "    result1 = opt.root(eul_b32, bmat[0,1], args=(err1_args))\n",
    "    bmat[1,1] = result1.x\n",
    "    EulErrs[1,1] = result1.fun\n",
    "    \n",
    "    # Solve for b_{2,t} and b_{3,t+1} using the twisted donut method\n",
    "    for tt in range(1,T):\n",
    "        # Solve for b_{2,t} and b_{3,t+1}\n",
    "        err2_args = beta, sigma, rpath[tt:tt+2], wpath[tt-1:tt+2], nvec\n",
    "        result2 = opt.root(eul_b2t_b3t1, bvec_guess, args=(err2_args))\n",
    "        bmat[tt,0] = result2.x[0]\n",
    "        bmat[tt+1,1] = result2.x[1]\n",
    "        EulErrs[tt,0] = result2.fun[0]\n",
    "        EulErrs[tt+1,1] = result2.fun[1]\n",
    "    \n",
    "    # Calculate maximum of the absolute values of all the Euler \n",
    "    # errors across the entire time path.\n",
    "    max_AbsEulErrs = np.abs(EulErrs).max(axis = 0)\n",
    "    \n",
    "    # Calculate new aggregate capital levels\n",
    "    Kpath_prime = bmat[:-1].sum(axis=1)\n",
    "    Kpath_prime = np.append(Kpath_prime, Kbar)\n",
    "    \n",
    "    # Calculate difference from last capital series (using L2 norm)\n",
    "    eps = lin.norm(Kpath_prime - Kpath, 2)\n",
    "    \n",
    "    # Update capital series\n",
    "    Kpath_new = xi * Kpath_prime + (1 - xi) * Kpath\n",
    "    Kpath = np.copy(Kpath_new)\n",
    "    \n",
    "    # Update interest rates and wages\n",
    "    rpath = get_r(Kpath, r_args)\n",
    "    wpath = get_w(Kpath, w_args)\n",
    "    \n",
    "    it = it + 1 "
   ]
  },
  {
   "cell_type": "markdown",
   "metadata": {},
   "source": [
    "#### Maximum of the absolute values of all the Euler errors across the entire time path"
   ]
  },
  {
   "cell_type": "code",
   "execution_count": 30,
   "metadata": {},
   "outputs": [
    {
     "name": "stdout",
     "output_type": "stream",
     "text": [
      "[1.14511067e-10 2.33846720e-10]\n"
     ]
    }
   ],
   "source": [
    "print(max_AbsEulErrs)"
   ]
  },
  {
   "cell_type": "markdown",
   "metadata": {},
   "source": [
    "#### Maximum of the absolute value of all the aggregate resource constraint errors"
   ]
  },
  {
   "cell_type": "code",
   "execution_count": 31,
   "metadata": {},
   "outputs": [
    {
     "name": "stdout",
     "output_type": "stream",
     "text": [
      "0.028505893073381812\n"
     ]
    }
   ],
   "source": [
    "Yt = A * (Kpath[:-1] ** alpha) * (L **(1 - alpha))\n",
    "Ct = L * wpath[:-1] + (1 + rpath[:-1]) * bmat[:-1,0] - bmat[1:,0] + (1 + rpath[:-1]) * bmat[:-1,1] - bmat[1:,1]\n",
    "agg_RC_Err = Yt - Ct - Kpath[1:] + (1 - delta) * Kpath[:-1]\n",
    "max_agg_RC_Err = np.abs(agg_RC_Err).max()\n",
    "print(max_agg_RC_Err)"
   ]
  },
  {
   "cell_type": "markdown",
   "metadata": {},
   "source": [
    "#### Plot Equilibrium Time Paths of Aggregate Capital Stocks, Wage, and Interest Rate"
   ]
  },
  {
   "cell_type": "code",
   "execution_count": 32,
   "metadata": {},
   "outputs": [
    {
     "data": {
      "image/png": "[encoded data removed]",
      "text/plain": [
       "<Figure size 432x288 with 1 Axes>"
      ]
     },
     "metadata": {
      "needs_background": "light"
     },
     "output_type": "display_data"
    },
    {
     "data": {
      "image/png": "[encoded data removed]",
      "text/plain": [
       "<Figure size 432x288 with 1 Axes>"
      ]
     },
     "metadata": {
      "needs_background": "light"
     },
     "output_type": "display_data"
    },
    {
     "data": {
      "image/png": "[encoded data removed]",
      "text/plain": [
       "<Figure size 432x288 with 1 Axes>"
      ]
     },
     "metadata": {
      "needs_background": "light"
     },
     "output_type": "display_data"
    }
   ],
   "source": [
    "plt.plot(Kpath, label='Aggregate Capital Stock')\n",
    "plt.hlines(Kbar, -1, T, label='SS Capital')\n",
    "plt.xlabel('Time')\n",
    "plt.ylabel('Level')\n",
    "plt.grid()\n",
    "plt.title('Equilibrium Time Path of Aggregate Capital Stock')\n",
    "plt.legend()\n",
    "plt.show()\n",
    "\n",
    "plt.plot(rpath, label='Interest Rate')\n",
    "plt.hlines(rbar, -1, T, label='SS Interest Rate')\n",
    "plt.xlabel('Time')\n",
    "plt.ylabel('Level')\n",
    "plt.grid()\n",
    "plt.title('Equilibrium Time Path of Interest Rate')\n",
    "plt.legend()\n",
    "plt.show()\n",
    "\n",
    "plt.plot(wpath, label='Wage')\n",
    "plt.hlines(wbar, -1, T, label='SS Wage')\n",
    "plt.xlabel('Time')\n",
    "plt.ylabel('Level')\n",
    "plt.grid()\n",
    "plt.title('Equilibrium Time Path of Wage')\n",
    "plt.legend()\n",
    "plt.show()"
   ]
  },
  {
   "cell_type": "markdown",
   "metadata": {},
   "source": [
    "#### How many periods did it take for the economy to get within 0.00001 of the steady-state aggregate capital stock $\\bar{K}$?"
   ]
  },
  {
   "cell_type": "code",
   "execution_count": 33,
   "metadata": {},
   "outputs": [
    {
     "data": {
      "text/plain": [
       "25"
      ]
     },
     "execution_count": 33,
     "metadata": {},
     "output_type": "execute_result"
    }
   ],
   "source": [
    "Kpath_dist_ss = np.abs(Kpath - Kbar)\n",
    "err =  .00001\n",
    "# Find first period where capital got within 0.00001 of the steady-state aggregate capital stock \n",
    "firstLoc = np.where(Kpath_dist_ss < err)[0]\n",
    "firstLoc[0]"
   ]
  },
  {
   "cell_type": "markdown",
   "metadata": {},
   "source": [
    "#### What is the period after which the aggregate capital stock never is again farther than 0.00001 away from the steady-state?"
   ]
  },
  {
   "cell_type": "code",
   "execution_count": 34,
   "metadata": {},
   "outputs": [
    {
     "data": {
      "text/plain": [
       "25"
      ]
     },
     "execution_count": 34,
     "metadata": {},
     "output_type": "execute_result"
    }
   ],
   "source": [
    "loc_cons = np.ediff1d(firstLoc) == 1\n",
    "firstLoc[-len(loc_cons)]"
   ]
  },
  {
   "cell_type": "code",
   "execution_count": null,
   "metadata": {},
   "outputs": [],
   "source": []
  }
 ],
 "metadata": {
  "kernelspec": {
   "display_name": "Python 3",
   "language": "python",
   "name": "python3"
  },
  "language_info": {
   "codemirror_mode": {
    "name": "ipython",
    "version": 3
   },
   "file_extension": ".py",
   "mimetype": "text/x-python",
   "name": "python",
   "nbconvert_exporter": "python",
   "pygments_lexer": "ipython3",
   "version": "3.7.3"
  }
 },
 "nbformat": 4,
 "nbformat_minor": 2
}
