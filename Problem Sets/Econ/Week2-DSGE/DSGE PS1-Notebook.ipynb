{
 "cells": [
  {
   "cell_type": "markdown",
   "metadata": {},
   "source": [
    "# Notebook for Kerk Phillips (Problem Set 1)"
   ]
  },
  {
   "cell_type": "markdown",
   "metadata": {},
   "source": [
    "Contains all the coding exercises. The analytical derivations have been put in the other files, DSGE-1, DSGE-2."
   ]
  },
  {
   "cell_type": "code",
   "execution_count": 9,
   "metadata": {},
   "outputs": [],
   "source": [
    "import numpy as np\n",
    "import pandas as pd\n",
    "import scipy.optimize as opt\n",
    "import scipy.stats as stats\n",
    "import pandas as pd\n",
    "import sympy as sy\n",
    "from sympy.solvers import solve\n",
    "from collections import namedtuple"
   ]
  },
  {
   "cell_type": "markdown",
   "metadata": {},
   "source": [
    "# Exercise 5 (See the derivations in the DSGE HW-1)"
   ]
  },
  {
   "cell_type": "code",
   "execution_count": 34,
   "metadata": {},
   "outputs": [],
   "source": [
    "params = [\"a\", \"alpha\", \"delta\",\"beta\",  \"gamma\", \"rho\", \"sigma\", \"tau\", \"zbar\", \"xi\"]\n",
    "pill = namedtuple(\"pill\", params)\n",
    "m = pill(0.50, 0.40, 0.10, 0.98, 2.50, 0.95, 0.02, 0.05, 0, 1.5)"
   ]
  },
  {
   "cell_type": "code",
   "execution_count": 35,
   "metadata": {},
   "outputs": [],
   "source": [
    "## The Euler Equation\n",
    "\n",
    "def euler_eqn(m, x):\n",
    "    l = 1 #(Initialize)\n",
    "    k = x\n",
    "    w = (1 - m.alpha) * np.exp(m.zbar) * ((k / np.exp(m.zbar)) ** m.alpha)\n",
    "    r = m.alpha * ((np.exp(m.zbar) / k) ** (1 - m.alpha))\n",
    "    T = m.tau * (w + (r - m.delta)* k)\n",
    "    c = (1 - m.tau) * (w + (r - m.delta)* k) + k + T - k\n",
    "    euler = 1/(c ** m.gamma) - (m.beta / (c ** m.gamma)) * ((r - m.delta) * (1 - m.tau) + 1)\n",
    "    return euler\n",
    "\n",
    "## The Solver\n",
    "    \n",
    "def solve_ss(m):\n",
    "    solve_me = lambda x: euler_eqn(m, x)\n",
    "    sol = opt.root(solve_me, .5)\n",
    "    \n",
    "    return sol.x"
   ]
  },
  {
   "cell_type": "code",
   "execution_count": 36,
   "metadata": {},
   "outputs": [
    {
     "name": "stdout",
     "output_type": "stream",
     "text": [
      "{'Kbar': array([7.28749795]), 'cbar': array([1.48450482]), 'wbar': array([1.32795277]), 'ibar': array([0.7287498]), 'rbar': array([0.12148228]), 'Tbar': array([0.07422524]), 'Ybar': array([2.21325461])}\n"
     ]
    }
   ],
   "source": [
    "kbar = solve_ss(m)\n",
    "rbar = m.alpha * ((np.exp(m.zbar) / kbar) ** (1 - m.alpha))\n",
    "wbar = (1 - m.alpha) * np.exp(m.zbar) * ((kbar / np.exp(m.zbar)) ** m.alpha)\n",
    "Tbar = m.tau * (wbar + (rbar - m.delta)* kbar)\n",
    "cbar = (1 - m.tau) * (wbar + (rbar - m.delta)* kbar) + Tbar\n",
    "\n",
    "Ybar = kbar ** m.alpha * np.exp(m.zbar) ** (1 - m.alpha)\n",
    "ibar = m.delta * kbar\n",
    "\n",
    "SS_vals = {'Kbar': kbar, 'cbar': cbar, 'wbar': wbar, 'ibar': ibar, 'rbar': rbar, 'Tbar': Tbar, \n",
    "           'Ybar': Ybar}\n",
    "\n",
    "print(SS_vals)"
   ]
  },
  {
   "cell_type": "code",
   "execution_count": 37,
   "metadata": {},
   "outputs": [
    {
     "name": "stdout",
     "output_type": "stream",
     "text": [
      "{'Kbar': 7.287497950692988, 'cbar': 1.484504818849544, 'rbar': 0.1214822771213749, 'Tbar': 0.0742252409424772, 'wbar': 1.3279527683513057, 'Ybar': 2.213254613918843, 'ibar': 0.7287497950692988}\n"
     ]
    }
   ],
   "source": [
    "ralg = (1 - m.beta) / (m.beta * (1 - m.tau)) + m.delta\n",
    "kalg = (ralg / m.alpha) ** (1 / (m.alpha - 1))\n",
    "walg = (1 - m.alpha) * (kalg) ** m.alpha\n",
    "Talg = m.tau * (walg + (ralg - m.delta)* kalg)\n",
    "calg = (1 - m.tau) * (walg + (ralg - m.delta)* kalg) + Talg\n",
    "Yalg = kalg ** m.alpha * np.exp(m.zbar) ** (1 - m.alpha)\n",
    "ialg = m.delta * kalg\n",
    "\n",
    "SS_vals_alg = {'Kbar': kalg, 'cbar': calg, \n",
    "               'rbar': ralg, 'Tbar': Talg, 'wbar': walg,\n",
    "               'Ybar': Yalg, 'ibar': ialg}\n",
    "\n",
    "print(SS_vals_alg)"
   ]
  },
  {
   "cell_type": "markdown",
   "metadata": {},
   "source": [
    "We now lay the two values side by side in the table and compare them. Amazing similarity wohoo!"
   ]
  },
  {
   "cell_type": "code",
   "execution_count": 29,
   "metadata": {},
   "outputs": [
    {
     "data": {
      "text/html": [
       "<div>\n",
       "<style scoped>\n",
       "    .dataframe tbody tr th:only-of-type {\n",
       "        vertical-align: middle;\n",
       "    }\n",
       "\n",
       "    .dataframe tbody tr th {\n",
       "        vertical-align: top;\n",
       "    }\n",
       "\n",
       "    .dataframe thead th {\n",
       "        text-align: right;\n",
       "    }\n",
       "</style>\n",
       "<table border=\"1\" class=\"dataframe\">\n",
       "  <thead>\n",
       "    <tr style=\"text-align: right;\">\n",
       "      <th></th>\n",
       "      <th>Kbar</th>\n",
       "      <th>cbar</th>\n",
       "      <th>rbar</th>\n",
       "      <th>Tbar</th>\n",
       "      <th>wbar</th>\n",
       "      <th>Ybar</th>\n",
       "      <th>ibar</th>\n",
       "    </tr>\n",
       "  </thead>\n",
       "  <tbody>\n",
       "    <tr>\n",
       "      <th>Kbar</th>\n",
       "      <td>0.004345</td>\n",
       "      <td>0.109294</td>\n",
       "      <td>10.453684</td>\n",
       "      <td>0.005465</td>\n",
       "      <td>0.068131</td>\n",
       "      <td>0.279292</td>\n",
       "      <td>0.004258</td>\n",
       "    </tr>\n",
       "    <tr>\n",
       "      <th>cbar</th>\n",
       "      <td>0.004345</td>\n",
       "      <td>0.109294</td>\n",
       "      <td>10.453684</td>\n",
       "      <td>0.005465</td>\n",
       "      <td>0.068131</td>\n",
       "      <td>0.279292</td>\n",
       "      <td>0.004258</td>\n",
       "    </tr>\n",
       "    <tr>\n",
       "      <th>wbar</th>\n",
       "      <td>0.004345</td>\n",
       "      <td>0.109294</td>\n",
       "      <td>10.453684</td>\n",
       "      <td>0.005465</td>\n",
       "      <td>0.068131</td>\n",
       "      <td>0.279292</td>\n",
       "      <td>0.004258</td>\n",
       "    </tr>\n",
       "    <tr>\n",
       "      <th>ibar</th>\n",
       "      <td>0.004345</td>\n",
       "      <td>0.109294</td>\n",
       "      <td>10.453684</td>\n",
       "      <td>0.005465</td>\n",
       "      <td>0.068131</td>\n",
       "      <td>0.279292</td>\n",
       "      <td>0.004258</td>\n",
       "    </tr>\n",
       "    <tr>\n",
       "      <th>rbar</th>\n",
       "      <td>0.004345</td>\n",
       "      <td>0.109294</td>\n",
       "      <td>10.453684</td>\n",
       "      <td>0.005465</td>\n",
       "      <td>0.068131</td>\n",
       "      <td>0.279292</td>\n",
       "      <td>0.004258</td>\n",
       "    </tr>\n",
       "    <tr>\n",
       "      <th>Tbar</th>\n",
       "      <td>0.004345</td>\n",
       "      <td>0.109294</td>\n",
       "      <td>10.453684</td>\n",
       "      <td>0.005465</td>\n",
       "      <td>0.068131</td>\n",
       "      <td>0.279292</td>\n",
       "      <td>0.004258</td>\n",
       "    </tr>\n",
       "    <tr>\n",
       "      <th>Ybar</th>\n",
       "      <td>0.004345</td>\n",
       "      <td>0.109294</td>\n",
       "      <td>10.453684</td>\n",
       "      <td>0.005465</td>\n",
       "      <td>0.068131</td>\n",
       "      <td>0.279292</td>\n",
       "      <td>0.004258</td>\n",
       "    </tr>\n",
       "  </tbody>\n",
       "</table>\n",
       "</div>"
      ],
      "text/plain": [
       "          Kbar      cbar       rbar      Tbar      wbar      Ybar      ibar\n",
       "Kbar  0.004345  0.109294  10.453684  0.005465  0.068131  0.279292  0.004258\n",
       "cbar  0.004345  0.109294  10.453684  0.005465  0.068131  0.279292  0.004258\n",
       "wbar  0.004345  0.109294  10.453684  0.005465  0.068131  0.279292  0.004258\n",
       "ibar  0.004345  0.109294  10.453684  0.005465  0.068131  0.279292  0.004258\n",
       "rbar  0.004345  0.109294  10.453684  0.005465  0.068131  0.279292  0.004258\n",
       "Tbar  0.004345  0.109294  10.453684  0.005465  0.068131  0.279292  0.004258\n",
       "Ybar  0.004345  0.109294  10.453684  0.005465  0.068131  0.279292  0.004258"
      ]
     },
     "execution_count": 29,
     "metadata": {},
     "output_type": "execute_result"
    }
   ],
   "source": [
    "pd.DataFrame(SS_vals_alg, SS_vals)"
   ]
  },
  {
   "cell_type": "markdown",
   "metadata": {},
   "source": [
    "# Exercise 6 (See the derivations in the DSGE HW-1)"
   ]
  },
  {
   "cell_type": "code",
   "execution_count": 30,
   "metadata": {},
   "outputs": [],
   "source": [
    "def u(m, c, l):\n",
    "    uc = (c**(1.0 - m.gamma) - 1.0) / (1.0 - m.gamma)\n",
    "    ul = m.a * ((1.0 - l)**(1.0 - m.xi) - 1.0) / (1.0 - m.xi)\n",
    "    return uc + ul\n",
    "\n",
    "def du_dl(m, c, l):\n",
    "    return - m.a * (1.0 - l)**(-m.xi)\n",
    "\n",
    "def du_dc(m, c, l):\n",
    "    return c**(-m.gamma)\n",
    "\n",
    "def f(m, k, l, z):\n",
    "    return k**m.alpha * (l * np.exp(z))**(1.0 - m.alpha)\n",
    "\n",
    "def df_dk(m, k, l, z):\n",
    "    return m.alpha * (l/k * np.exp(z))**(1.0 - m.alpha)\n",
    "\n",
    "def df_dl(m, k, l, z):\n",
    "    return (1.0 - m.alpha) * np.exp(z)**(1.0 - m.alpha) * (k / l)**m.alpha"
   ]
  },
  {
   "cell_type": "code",
   "execution_count": 31,
   "metadata": {},
   "outputs": [],
   "source": [
    "def bas(m, ktp1, kt, lt, zt):\n",
    "    wt = df_dl(m, kt, lt, zt)\n",
    "    rt = df_dk(m, kt, lt, zt)\n",
    "    Tt = m.tau * (wt*lt + (rt - m.delta)*kt)\n",
    "    ct = (1 - m.tau) * (wt*lt + (rt - m.delta)*kt) + kt + Tt - ktp1 \n",
    "    return ct, rt, Tt, wt\n",
    "\n",
    "\n",
    "def CE(m, ktp2, ltp1, ktp1, lt, kt, ltm1, ztp1, zt):\n",
    "    ct, rt, Tt, wt = bas(m, ktp1, kt, lt, zt)\n",
    "    ctp1, rtp1, Ttp1, wtp1 = bas(m, ktp2, ktp1, ltp1, ztp1)\n",
    "    rr_tp1 = (rtp1 - m.delta)*(1 - m.tau) + 1.0\n",
    "\n",
    "    inter_ee = du_dc(m, ct, lt) - m.beta*du_dc(m, ctp1, ltp1)*rr_tp1\n",
    "    intra_ee = du_dl(m, ct, lt) + du_dc(m, ct, lt)*wt*(1.0 - m.tau)\n",
    "\n",
    "    return np.array([inter_ee, intra_ee])"
   ]
  },
  {
   "cell_type": "code",
   "execution_count": 32,
   "metadata": {},
   "outputs": [],
   "source": [
    "def solve_ss(m):\n",
    "    solve_me = lambda x: CE(m, x[0], x[1], x[0], x[1], x[0], x[1], 0.0, 0.0)\n",
    "    sol = opt.root(solve_me, np.array([0.5, 0.85]))\n",
    "\n",
    "    return sol.x"
   ]
  },
  {
   "cell_type": "code",
   "execution_count": 33,
   "metadata": {},
   "outputs": [
    {
     "name": "stdout",
     "output_type": "stream",
     "text": [
      "{'Kbar': 327696.02954337833, 'Lbar': 316848.7933867982, 'wbar': 0.608133459704943, 'Ybar': 395.4153325870078, 'ibar': 321142.10895251075, 'cbar': 1.8125902396859601, 'rbar': 0.39200221252633694, 'Tbar': 0.09062951198429801}\n"
     ]
    }
   ],
   "source": [
    "kbar, lbar = solve_ss(m)\n",
    "cbar, rbar, Tbar, wbar = bas(m, kbar, kbar, lbar, 0.0)\n",
    "Ybar = kbar ** m.alpha * np.exp(m.zbar) ** (1 - m.alpha)\n",
    "ibar = m.delta * kbar\n",
    "\n",
    "SS_vals = {'Kbar': kbar, 'Lbar': lbar, 'wbar': wbar,'Ybar': Ybar, 'ibar': ibar, 'cbar': cbar, 'rbar': rbar, 'Tbar': Tbar}\n",
    "\n",
    "print(SS_vals)"
   ]
  },
  {
   "cell_type": "code",
   "execution_count": null,
   "metadata": {},
   "outputs": [],
   "source": [
    "## Thank You!"
   ]
  }
 ],
 "metadata": {
  "kernelspec": {
   "display_name": "Python 3",
   "language": "python",
   "name": "python3"
  },
  "language_info": {
   "codemirror_mode": {
    "name": "ipython",
    "version": 3
   },
   "file_extension": ".py",
   "mimetype": "text/x-python",
   "name": "python",
   "nbconvert_exporter": "python",
   "pygments_lexer": "ipython3",
   "version": "3.7.3"
  }
 },
 "nbformat": 4,
 "nbformat_minor": 2
}
